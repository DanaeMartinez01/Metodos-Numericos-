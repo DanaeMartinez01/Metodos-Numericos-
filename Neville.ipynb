{
  "nbformat": 4,
  "nbformat_minor": 0,
  "metadata": {
    "colab": {
      "provenance": [],
      "authorship_tag": "ABX9TyMNFEMVxwFUQkjBwiuulysD",
      "include_colab_link": true
    },
    "kernelspec": {
      "name": "python3",
      "display_name": "Python 3"
    },
    "language_info": {
      "name": "python"
    }
  },
  "cells": [
    {
      "cell_type": "markdown",
      "metadata": {
        "id": "view-in-github",
        "colab_type": "text"
      },
      "source": [
        "<a href=\"https://colab.research.google.com/github/DanaeMartinez01/Metodos-Numericos-/blob/main/Neville.ipynb\" target=\"_parent\"><img src=\"https://colab.research.google.com/assets/colab-badge.svg\" alt=\"Open In Colab\"/></a>"
      ]
    },
    {
      "cell_type": "code",
      "execution_count": 1,
      "metadata": {
        "colab": {
          "base_uri": "https://localhost:8080/"
        },
        "id": "OVb3Zi1R4gre",
        "outputId": "ea7ad7a6-0d36-424e-9e9b-8e95d2fe5127"
      },
      "outputs": [
        {
          "output_type": "stream",
          "name": "stdout",
          "text": [
            "Tabla de Neville:\n",
            "Q[0,0] = 0.7651977\t\n",
            "Q[1,0] = 0.6200860\tQ[1,1] = 0.5233449\t\n",
            "Q[2,0] = 0.4554022\tQ[2,1] = 0.5102968\tQ[2,2] = 0.5124715\t\n",
            "Q[3,0] = 0.2818186\tQ[3,1] = 0.5132634\tQ[3,2] = 0.5112857\tQ[3,3] = 0.5118127\t\n",
            "Q[4,0] = 0.1103623\tQ[4,1] = 0.5104270\tQ[4,2] = 0.5137361\tQ[4,3] = 0.5118302\tQ[4,4] = 0.5118200\t\n",
            "\n",
            "Valor interpolado en x = 1.5: 0.5118200\n"
          ]
        }
      ],
      "source": [
        "# Implementación del Algoritmo 3.1: Interpolación iterada de Neville\n",
        "# Basado en el libro \"Análisis Numérico\" de Burden y Faires.\n",
        "\n",
        "def interpolacion_neville(x, fx, x_eval):\n",
        "    \"\"\"\n",
        "    Implementación del método de Neville para interpolación.\n",
        "    Calcula el polinomio interpolante en el punto x_eval usando los puntos dados.\n",
        "\n",
        "    Parámetros:\n",
        "    - x: Lista de puntos en el eje x.\n",
        "    - fx: Lista de valores de f(x) correspondientes a los puntos x.\n",
        "    - x_eval: Punto donde se evalúa el polinomio interpolante.\n",
        "\n",
        "    Salida:\n",
        "    - Q[n-1][n-1]: Valor interpolado en x_eval.\n",
        "    \"\"\"\n",
        "    n = len(x)\n",
        "    # Crear la tabla Q con ceros\n",
        "    Q = [[0.0] * n for _ in range(n)]\n",
        "\n",
        "    # Inicializar la primera columna con los valores de fx\n",
        "    for i in range(n):\n",
        "        Q[i][0] = fx[i]\n",
        "\n",
        "    # Construcción de la tabla de Neville\n",
        "    for i in range(1, n):\n",
        "        for j in range(1, i + 1):\n",
        "            Q[i][j] = ((x_eval - x[i - j]) * Q[i][j - 1] - (x_eval - x[i]) * Q[i - 1][j - 1]) / (x[i] - x[i - j])\n",
        "\n",
        "    # Mostrar la tabla de Neville\n",
        "    print(\"Tabla de Neville:\")\n",
        "    for i in range(n):\n",
        "        for j in range(i + 1):\n",
        "            print(f\"Q[{i},{j}] = {Q[i][j]:.7f}\", end=\"\\t\")\n",
        "        print()\n",
        "\n",
        "    # Retornar el valor interpolado\n",
        "    return Q[n - 1][n - 1]\n",
        "\n",
        "\n",
        "# Ejemplo de prueba (puedes cambiar los valores para otros casos)\n",
        "x_puntos = [1.0, 1.3, 1.6, 1.9, 2.2]\n",
        "fx_puntos = [0.7651977, 0.6200860, 0.4554022, 0.2818186, 0.1103623]\n",
        "x_a_evaluar = 1.5\n",
        "\n",
        "# Resultado usando el algoritmo 3.1\n",
        "resultado = interpolacion_neville(x_puntos, fx_puntos, x_a_evaluar)\n",
        "print(f\"\\nValor interpolado en x = {x_a_evaluar}: {resultado:.7f}\")"
      ]
    }
  ]
}