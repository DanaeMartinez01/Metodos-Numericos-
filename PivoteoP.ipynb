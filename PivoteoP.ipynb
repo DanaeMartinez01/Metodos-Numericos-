{
  "nbformat": 4,
  "nbformat_minor": 0,
  "metadata": {
    "colab": {
      "provenance": [],
      "authorship_tag": "ABX9TyP5W4OSI/iQ2EirYarQaAyW",
      "include_colab_link": true
    },
    "kernelspec": {
      "name": "python3",
      "display_name": "Python 3"
    },
    "language_info": {
      "name": "python"
    }
  },
  "cells": [
    {
      "cell_type": "markdown",
      "metadata": {
        "id": "view-in-github",
        "colab_type": "text"
      },
      "source": [
        "<a href=\"https://colab.research.google.com/github/DanaeMartinez01/Metodos-Numericos-/blob/main/PivoteoP.ipynb\" target=\"_parent\"><img src=\"https://colab.research.google.com/assets/colab-badge.svg\" alt=\"Open In Colab\"/></a>"
      ]
    },
    {
      "cell_type": "code",
      "execution_count": 1,
      "metadata": {
        "colab": {
          "base_uri": "https://localhost:8080/"
        },
        "id": "BwJfPQXn3ViW",
        "outputId": "58699265-a41e-4733-efc1-f470ae6ca346"
      },
      "outputs": [
        {
          "output_type": "stream",
          "name": "stdout",
          "text": [
            "La solución del sistema es:\n",
            "x1 = 10.0000, x2 = 1.0000\n"
          ]
        }
      ],
      "source": [
        "import numpy as np\n",
        "\n",
        "def eliminacion_gaussiana_pivoteo_parcial(A, b):\n",
        "    \"\"\"\n",
        "    Implementación de la eliminación gaussiana con pivoteo parcial.\n",
        "\n",
        "    Parámetros:\n",
        "    - A: Matriz de coeficientes (numpy array de tamaño n x n).\n",
        "    - b: Vector de términos independientes (numpy array de tamaño n).\n",
        "\n",
        "    Salida:\n",
        "    - x: Vector solución (numpy array de tamaño n) o mensaje de error si no hay solución única.\n",
        "    \"\"\"\n",
        "    n = len(A)\n",
        "    # Matriz aumentada\n",
        "    A = np.hstack((A, b.reshape(-1, 1)))\n",
        "\n",
        "    # Proceso de eliminación\n",
        "    for i in range(n - 1):\n",
        "        # Paso 3: Determinar el índice del pivote (máximo valor absoluto en la columna i)\n",
        "        max_index = np.argmax(abs(A[i:n, i])) + i\n",
        "        if A[max_index, i] == 0:\n",
        "            return \"El sistema no tiene solución única.\"\n",
        "\n",
        "        # Paso 5: Intercambio de filas (si es necesario)\n",
        "        if max_index != i:\n",
        "            A[[i, max_index]] = A[[max_index, i]]\n",
        "\n",
        "        # Paso 6-8: Eliminación hacia adelante\n",
        "        for j in range(i + 1, n):\n",
        "            m = A[j, i] / A[i, i]  # Multiplicador\n",
        "            A[j, i:] -= m * A[i, i:]\n",
        "\n",
        "    # Verificar si el sistema tiene solución única\n",
        "    if A[-1, -2] == 0:\n",
        "        return \"El sistema no tiene solución única.\"\n",
        "\n",
        "    # Paso 10-12: Sustitución hacia atrás\n",
        "    x = np.zeros(n)\n",
        "    for i in range(n - 1, -1, -1):\n",
        "        x[i] = (A[i, -1] - np.dot(A[i, i + 1:n], x[i + 1:])) / A[i, i]\n",
        "\n",
        "    return x\n",
        "\n",
        "\n",
        "# Ejemplo 2: Resolviendo el sistema\n",
        "# Matriz de coeficientes\n",
        "A = np.array([[0.003, 59.14],\n",
        "              [5.291, -6.13]])\n",
        "# Vector de términos independientes\n",
        "b = np.array([59.17, 46.78])\n",
        "\n",
        "# Llamando a la función\n",
        "solucion = eliminacion_gaussiana_pivoteo_parcial(A, b)\n",
        "\n",
        "# Mostrando la solución\n",
        "if isinstance(solucion, str):\n",
        "    print(solucion)\n",
        "else:\n",
        "    print(\"La solución del sistema es:\")\n",
        "    print(f\"x1 = {solucion[0]:.4f}, x2 = {solucion[1]:.4f}\")"
      ]
    },
    {
      "cell_type": "markdown",
      "source": [
        "Explicación del código:\n",
        "\n",
        "\t1.\tDocumentación:\n",
        "\t•\tSe explica en el encabezado de la función cómo se implementa el algoritmo y qué parámetros recibe.\n",
        "\n",
        "\t2.\tComentarios:\n",
        "\t•\tCada paso importante del algoritmo se explica dentro del código.\n",
        "\t•\tSe señala específicamente dónde ocurre el pivoteo parcial, la eliminación hacia adelante y la sustitución hacia atrás.\n",
        "\n",
        "\t3.\tPrueba con el Ejemplo 2:\n",
        "\t•\tSe usan los coeficientes y términos independientes proporcionados en el Ejemplo 2.\n",
        "\t•\tLos resultados se redondean a cuatro cifras significativas como en el ejemplo del libro."
      ],
      "metadata": {
        "id": "DdoyaYkL4i8Z"
      }
    }
  ]
}