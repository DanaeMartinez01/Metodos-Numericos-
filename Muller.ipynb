{
  "nbformat": 4,
  "nbformat_minor": 0,
  "metadata": {
    "colab": {
      "provenance": [],
      "authorship_tag": "ABX9TyPFSBXlc5cZONvnJduVu+hD",
      "include_colab_link": true
    },
    "kernelspec": {
      "name": "python3",
      "display_name": "Python 3"
    },
    "language_info": {
      "name": "python"
    }
  },
  "cells": [
    {
      "cell_type": "markdown",
      "metadata": {
        "id": "view-in-github",
        "colab_type": "text"
      },
      "source": [
        "<a href=\"https://colab.research.google.com/github/DanaeMartinez01/Metodos-Numericos-/blob/main/Muller.ipynb\" target=\"_parent\"><img src=\"https://colab.research.google.com/assets/colab-badge.svg\" alt=\"Open In Colab\"/></a>"
      ]
    },
    {
      "cell_type": "code",
      "source": [
        "import cmath\n",
        "\n",
        "# Función que evalúa el polinomio\n",
        "def f(x):\n",
        "    return x**3 - 6*x**2 + 11*x - 6.1  # Ejemplo de polinomio: x^3 - 6x^2 + 11x - 6.1\n",
        "\n",
        "# Método de Müller\n",
        "def muller(f, x0, x1, x2, tol=1e-6, max_iter=100):\n",
        "    # Inicializamos las variables\n",
        "    h1 = x1 - x0\n",
        "    h2 = x2 - x1\n",
        "    delta1 = (f(x1) - f(x0)) / h1\n",
        "    delta2 = (f(x2) - f(x1)) / h2\n",
        "    d = (delta2 - delta1) / (h2 + h1)\n",
        "\n",
        "    for i in range(max_iter):\n",
        "        b = delta2 + h2 * d\n",
        "        D = cmath.sqrt(b**2 - 4 * f(x2) * d)\n",
        "\n",
        "        # Elegimos el denominador más grande para evitar división por 0\n",
        "        if abs(b + D) > abs(b - D):\n",
        "            E = b + D\n",
        "        else:\n",
        "            E = b - D\n",
        "\n",
        "        h = -2 * f(x2) / E\n",
        "        x3 = x2 + h\n",
        "\n",
        "        # Si la parte imaginaria es pequeña, la ignoramos y tomamos solo la parte real\n",
        "        if abs(x3.imag) < 1e-6:\n",
        "            x3 = x3.real\n",
        "\n",
        "        if abs(h.imag) < 1e-6:\n",
        "            h = h.real\n",
        "\n",
        "        # Redondeamos la parte real y mostramos el resultado\n",
        "        x3_str = f\"{round(x3.real, 6)}\"\n",
        "        fx3_real = round(f(x3).real, 6)\n",
        "        error = round(abs(h), 6)\n",
        "\n",
        "        # Mostrar los resultados de la iteración\n",
        "        print(f\"Iteración {i+1}: x = {x3_str}, f(x) = {fx3_real}, Error = {error}\")\n",
        "\n",
        "        # Criterio de parada\n",
        "        if abs(h) < tol:\n",
        "            return x3_str\n",
        "\n",
        "        # Reasignar valores para la siguiente iteración\n",
        "        x0, x1, x2 = x1, x2, x3\n",
        "        h1 = x1 - x0\n",
        "        h2 = x2 - x1\n",
        "        delta1 = (f(x1) - f(x0)) / h1\n",
        "        delta2 = (f(x2) - f(x1)) / h2\n",
        "        d = (delta2 - delta1) / (h2 + h1)\n",
        "\n",
        "    print(\"El método no convergió en el número máximo de iteraciones\")\n",
        "    return None\n",
        "\n",
        "# Valores iniciales para la prueba\n",
        "x0 = 3.5\n",
        "x1 = 4.0\n",
        "x2 = 4.5\n",
        "\n",
        "# Llamada al método de Müller\n",
        "raiz = muller(f, x0, x1, x2)\n",
        "\n",
        "print(f\"\\nLa raíz encontrada es: {raiz}\")"
      ],
      "metadata": {
        "colab": {
          "base_uri": "https://localhost:8080/"
        },
        "id": "Ur7bV9HTq-Ci",
        "outputId": "7dbc3546-610e-4b99-9597-9c81fd8bf801"
      },
      "execution_count": 1,
      "outputs": [
        {
          "output_type": "stream",
          "name": "stdout",
          "text": [
            "Iteración 1: x = 3.0625, f(x) = -0.295898, Error = 1.473375\n",
            "Iteración 2: x = 2.770239, f(x) = -0.618156, Error = 0.293362\n",
            "Iteración 3: x = 2.407321, f(x) = -0.501247, Error = 0.370269\n",
            "Iteración 4: x = 2.082613, f(x) = -0.187086, Error = 0.334852\n",
            "Iteración 5: x = 1.934524, f(x) = -0.033985, Error = 0.167367\n",
            "Iteración 6: x = 1.895353, f(x) = 0.003523, Error = 0.068552\n",
            "Iteración 7: x = 1.898831, f(x) = 0.000133, Error = 0.009087\n",
            "Iteración 8: x = 1.898969, f(x) = -0.0, Error = 0.000161\n",
            "Iteración 9: x = 1.898969, f(x) = -0.0, Error = 0.0\n",
            "\n",
            "La raíz encontrada es: 1.898969\n"
          ]
        }
      ]
    }
  ]
}