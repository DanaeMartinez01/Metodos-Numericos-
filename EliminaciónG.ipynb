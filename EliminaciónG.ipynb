{
  "nbformat": 4,
  "nbformat_minor": 0,
  "metadata": {
    "colab": {
      "provenance": [],
      "authorship_tag": "ABX9TyM6il90IZEiXUMjmFPZriN7",
      "include_colab_link": true
    },
    "kernelspec": {
      "name": "python3",
      "display_name": "Python 3"
    },
    "language_info": {
      "name": "python"
    }
  },
  "cells": [
    {
      "cell_type": "markdown",
      "metadata": {
        "id": "view-in-github",
        "colab_type": "text"
      },
      "source": [
        "<a href=\"https://colab.research.google.com/github/DanaeMartinez01/Metodos-Numericos-/blob/main/Eliminaci%C3%B3nG.ipynb\" target=\"_parent\"><img src=\"https://colab.research.google.com/assets/colab-badge.svg\" alt=\"Open In Colab\"/></a>"
      ]
    },
    {
      "cell_type": "code",
      "source": [
        "import numpy as np\n",
        "\n",
        "def eliminacion_gaussiana(A):\n",
        "    \"\"\"\n",
        "    Implementa la eliminación gaussiana con sustitución hacia atrás para resolver sistemas lineales.\n",
        "\n",
        "    Parámetros:\n",
        "    A (numpy array): Matriz aumentada del sistema de ecuaciones.\n",
        "\n",
        "    Retorna:\n",
        "    numpy array: Vector solución del sistema, si existe una solución única.\n",
        "    \"\"\"\n",
        "    n = A.shape[0]  # Número de ecuaciones\n",
        "\n",
        "    # Proceso de eliminación gaussiana\n",
        "    for i in range(n - 1):\n",
        "        # Verificar si el pivote es cero; si es así, buscar un intercambio de filas\n",
        "        if A[i, i] == 0:\n",
        "            for k in range(i + 1, n):\n",
        "                if A[k, i] != 0:\n",
        "                    A[[i, k]] = A[[k, i]]  # Intercambio de filas\n",
        "                    break\n",
        "            else:\n",
        "                raise ValueError(\"No existe una solución única, pivote cero encontrado.\")\n",
        "\n",
        "        # Realizar eliminación para las filas debajo de la fila actual\n",
        "        for j in range(i + 1, n):\n",
        "            factor = A[j, i] / A[i, i]\n",
        "            A[j, i:] -= factor * A[i, i:]\n",
        "\n",
        "    # Verificar si el sistema tiene solución única\n",
        "    if A[-1, -2] == 0:\n",
        "        raise ValueError(\"No existe una solución única.\")\n",
        "\n",
        "    # Sustitución hacia atrás\n",
        "    x = np.zeros(n)\n",
        "    for i in range(n - 1, -1, -1):\n",
        "        suma = np.dot(A[i, i + 1:n], x[i + 1:n])  # Producto escalar\n",
        "        x[i] = (A[i, -1] - suma) / A[i, i]\n",
        "\n",
        "    return x\n",
        "\n",
        "# Matriz aumentada del sistema (Ejemplo 2)\n",
        "A = np.array([\n",
        "    [1, -1, 2, -1, -8],\n",
        "    [2, -2, 3, -3, -20],\n",
        "    [1, 1, 1, 0, 0],\n",
        "    [1, -1, 4, 3, 3],\n",
        "], dtype=float)\n",
        "\n",
        "# Resolver el sistema utilizando eliminación gaussiana\n",
        "try:\n",
        "    solucion = eliminacion_gaussiana(A)\n",
        "    print(\"La solución del sistema es:\")\n",
        "    for i, val in enumerate(solucion, 1):\n",
        "        print(f\"x{i} = {val:.0f}\")\n",
        "except ValueError as e:\n",
        "    print(e)"
      ],
      "metadata": {
        "colab": {
          "base_uri": "https://localhost:8080/"
        },
        "id": "R8z42TQpzjJ9",
        "outputId": "0dd9c109-637d-463a-97d2-7f24b737a90e"
      },
      "execution_count": 8,
      "outputs": [
        {
          "output_type": "stream",
          "name": "stdout",
          "text": [
            "La solución del sistema es:\n",
            "x1 = -7\n",
            "x2 = 4\n",
            "x3 = 2\n",
            "x4 = 2\n"
          ]
        }
      ]
    },
    {
      "cell_type": "markdown",
      "source": [
        "Explicación del Código\n",
        "\n",
        "\t1.\tLibrerías: Se utiliza numpy para manejar matrices y realizar operaciones matemáticas.\n",
        "\n",
        "\t2.\tAlgoritmo:\n",
        "\t•\tSe sigue el Algoritmo 6.1 para realizar la eliminación gaussiana.\n",
        "\t•\tLa matriz aumentada se pasa como entrada y se modifica directamente durante los pasos del algoritmo.\n",
        "\t•\tSe verifican condiciones como la existencia de un pivote distinto de cero y se asegura que el sistema tenga solución única.\n",
        "\n",
        "\t3.\tComentarios:\n",
        "\t•\tCada sección del código tiene comentarios que explican qué pasos corresponden a los del algoritmo 6.1.\n",
        "\t•\tTambién se manejan errores en caso de que no exista solución única.\n",
        "\t4.\tPrueba:\n",
        "\t•\tLa matriz aumentada del Ejemplo 2 se ingresa directamente.\n",
        "\t•\tLa salida es la solución del sistema si el algoritmo se ejecuta correctamente."
      ],
      "metadata": {
        "id": "VbB0eNIV1BzE"
      }
    }
  ]
}