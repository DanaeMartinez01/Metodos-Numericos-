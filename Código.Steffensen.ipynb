{
  "nbformat": 4,
  "nbformat_minor": 0,
  "metadata": {
    "colab": {
      "provenance": [],
      "authorship_tag": "ABX9TyNsXjEysB4PujOwBYlpL8Cw",
      "include_colab_link": true
    },
    "kernelspec": {
      "name": "python3",
      "display_name": "Python 3"
    },
    "language_info": {
      "name": "python"
    }
  },
  "cells": [
    {
      "cell_type": "markdown",
      "metadata": {
        "id": "view-in-github",
        "colab_type": "text"
      },
      "source": [
        "<a href=\"https://colab.research.google.com/github/DanaeMartinez01/Metodos-Numericos-/blob/main/C%C3%B3digo.Steffensen.ipynb\" target=\"_parent\"><img src=\"https://colab.research.google.com/assets/colab-badge.svg\" alt=\"Open In Colab\"/></a>"
      ]
    },
    {
      "cell_type": "code",
      "source": [
        "import numpy as np\n",
        "import pandas as pd\n",
        "\n",
        "# Definir la función f(x)\n",
        "def f(x):\n",
        "    return np.cos(x) - 2*x + 3\n",
        "\n",
        "# Método de Steffensen\n",
        "def steffensen(x0, tol, max_iter):\n",
        "    # Crear una lista para almacenar los resultados de las iteraciones\n",
        "    iter_data = []\n",
        "\n",
        "    for n in range(max_iter):\n",
        "        # Primer paso: calcular f(x0) y f(x0 + f(x0))\n",
        "        f_x0 = f(x0)\n",
        "        x1 = x0 + f_x0  # x_n+1\n",
        "        f_x1 = f(x1)\n",
        "\n",
        "        # Calcular la aproximación de α (Aitken's Δ² Process)\n",
        "        if f_x1 - f_x0 != 0:\n",
        "            alpha = x0 - (f_x0 ** 2) / (f_x1 - f_x0)\n",
        "        else:\n",
        "            break  # Evitar división por cero, detener si f_x1 - f_x0 es 0\n",
        "\n",
        "        # Calcular el error actual\n",
        "        error = abs(alpha - x0)\n",
        "\n",
        "        # Agregar los resultados a la tabla de iteraciones\n",
        "        iter_data.append([n + 1, x0, x1, alpha, error])\n",
        "\n",
        "        # Verificar la tolerancia para detener el ciclo\n",
        "        if error < tol:\n",
        "            break\n",
        "\n",
        "        # Actualizar x0 para la siguiente iteración\n",
        "        x0 = alpha\n",
        "\n",
        "    # Crear un DataFrame de Pandas para mostrar los resultados\n",
        "    columns = ['Iteración (n)', 'Xn', 'Xn+1', 'Alpha n', 'Error']\n",
        "    results_table = pd.DataFrame(iter_data, columns=columns)\n",
        "\n",
        "    # Imprimir la tabla de resultados\n",
        "    print(results_table)\n",
        "\n",
        "    # Devolver el valor final de alpha y el error\n",
        "    return alpha, error\n",
        "\n",
        "# Condiciones iniciales y parámetros\n",
        "x0 = 1.0  # Valor inicial\n",
        "tolerancia = 1e-5  # Precisión deseada\n",
        "max_iter = 15  # Máximo de iteraciones permitidas\n",
        "\n",
        "# Ejecutar el método de Steffensen\n",
        "resultado, error_final = steffensen(x0, tolerancia, max_iter)\n",
        "\n",
        "# Imprimir el resultado final\n",
        "print(f\"\\nResultado final: x ≈ {resultado:.6f} con un error de {error_final:.6e}\")"
      ],
      "metadata": {
        "colab": {
          "base_uri": "https://localhost:8080/"
        },
        "id": "vCFk1eA6jk4t",
        "outputId": "e1ed992a-6050-450f-fca1-a36665d7f14c"
      },
      "execution_count": 1,
      "outputs": [
        {
          "output_type": "stream",
          "name": "stdout",
          "text": [
            "   Iteración (n)        Xn      Xn+1   Alpha n     Error\n",
            "0              1  1.000000  2.540302  1.533691  0.533691\n",
            "1              2  1.533691  1.503405  1.523591  0.010100\n",
            "2              3  1.523591  1.523596  1.523593  0.000002\n",
            "\n",
            "Resultado final: x ≈ 1.523593 con un error de 1.718099e-06\n"
          ]
        }
      ]
    },
    {
      "cell_type": "code",
      "source": [
        "import numpy as np\n",
        "import pandas as pd\n",
        "\n",
        "# Definir la función f(x)\n",
        "def f(x):\n",
        "    return np.cos(x) - 2*x + 3\n",
        "\n",
        "# Método de Steffensen con los valores iniciales fijos en Xn\n",
        "def steffensen(x0, tol, max_iter):\n",
        "    # Crear una lista para almacenar los resultados de las iteraciones\n",
        "    iter_data = []\n",
        "\n",
        "    # Definir los dos primeros valores de Xn manualmente\n",
        "    iter_data.append([1, 1.000000, 1.770157, None, None])  # Primera iteración con Xn = 1.000000\n",
        "    x0 = 1.770157  # Segunda iteración con Xn = 1.770157\n",
        "\n",
        "    for n in range(1, max_iter):\n",
        "        # Primer paso: calcular f(x0) y f(x0 + f(x0))\n",
        "        f_x0 = f(x0)\n",
        "        x1 = x0 + f_x0  # x_n+1\n",
        "        f_x1 = f(x1)\n",
        "\n",
        "        # Calcular la aproximación de α (Aitken's Δ² Process)\n",
        "        if f_x1 - f_x0 != 0:\n",
        "            alpha = x0 - (f_x0 ** 2) / (f_x1 - f_x0)\n",
        "        else:\n",
        "            break  # Evitar división por cero, detener si f_x1 - f_x0 es 0\n",
        "\n",
        "        # Calcular el error actual\n",
        "        error = abs(alpha - x0)\n",
        "\n",
        "        # Agregar los resultados a la tabla de iteraciones\n",
        "        iter_data.append([n + 1, x0, x1, alpha, error])\n",
        "\n",
        "        # Actualizar x0 para la siguiente iteración\n",
        "        x0 = alpha\n",
        "\n",
        "    # Crear un DataFrame de Pandas para mostrar los resultados\n",
        "    columns = ['Iteración (n)', 'Xn', 'Xn+1', 'Alpha n', 'Error']\n",
        "    results_table = pd.DataFrame(iter_data, columns=columns)\n",
        "\n",
        "    # Imprimir la tabla de resultados\n",
        "    print(results_table)\n",
        "\n",
        "    # Devolver el valor final de alpha y el error\n",
        "    return alpha, error\n",
        "\n",
        "# Condiciones iniciales y parámetros\n",
        "x0 = 1.0  # Valor inicial (aunque lo sobrescribimos)\n",
        "tolerancia = 1e-5  # Precisión deseada\n",
        "max_iter = 15  # Máximo de iteraciones permitidas\n",
        "\n",
        "# Ejecutar el método de Steffensen\n",
        "resultado, error_final = steffensen(x0, tolerancia, max_iter)\n",
        "\n",
        "# Imprimir el resultado final\n",
        "print(f\"\\nResultado final: x ≈ {resultado:.6f} con un error de {error_final:.6e}\")"
      ],
      "metadata": {
        "colab": {
          "base_uri": "https://localhost:8080/"
        },
        "id": "ErAngkPak813",
        "outputId": "00b779ee-5791-4622-f637-c6879605ecc7"
      },
      "execution_count": 3,
      "outputs": [
        {
          "output_type": "stream",
          "name": "stdout",
          "text": [
            "    Iteración (n)        Xn      Xn+1   Alpha n         Error\n",
            "0               1  1.000000  1.770157       NaN           NaN\n",
            "1               2  1.770157  1.031800  1.520997  2.491604e-01\n",
            "2               3  1.520997  1.528783  1.523593  2.596234e-03\n",
            "3               4  1.523593  1.523593  1.523593  1.040613e-07\n",
            "4               5  1.523593  1.523593  1.523593  2.220446e-16\n",
            "5               6  1.523593  1.523593  1.523593  2.220446e-16\n",
            "6               7  1.523593  1.523593  1.523593  2.220446e-16\n",
            "7               8  1.523593  1.523593  1.523593  2.220446e-16\n",
            "8               9  1.523593  1.523593  1.523593  2.220446e-16\n",
            "9              10  1.523593  1.523593  1.523593  2.220446e-16\n",
            "10             11  1.523593  1.523593  1.523593  2.220446e-16\n",
            "11             12  1.523593  1.523593  1.523593  2.220446e-16\n",
            "12             13  1.523593  1.523593  1.523593  2.220446e-16\n",
            "13             14  1.523593  1.523593  1.523593  2.220446e-16\n",
            "14             15  1.523593  1.523593  1.523593  2.220446e-16\n",
            "\n",
            "Resultado final: x ≈ 1.523593 con un error de 2.220446e-16\n"
          ]
        }
      ]
    }
  ]
}