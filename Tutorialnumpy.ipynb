{
  "nbformat": 4,
  "nbformat_minor": 0,
  "metadata": {
    "colab": {
      "provenance": [],
      "authorship_tag": "ABX9TyMKMsWX4yfCuCrD2lnMWkA6",
      "include_colab_link": true
    },
    "kernelspec": {
      "name": "python3",
      "display_name": "Python 3"
    },
    "language_info": {
      "name": "python"
    }
  },
  "cells": [
    {
      "cell_type": "markdown",
      "metadata": {
        "id": "view-in-github",
        "colab_type": "text"
      },
      "source": [
        "<a href=\"https://colab.research.google.com/github/DanaeMartinez01/Metodos-Numericos-/blob/main/Tutorialnumpy.ipynb\" target=\"_parent\"><img src=\"https://colab.research.google.com/assets/colab-badge.svg\" alt=\"Open In Colab\"/></a>"
      ]
    },
    {
      "cell_type": "markdown",
      "source": [
        "1. Introducción a NumPy\n",
        "\n",
        "\t•\t¿Qué es NumPy?\n",
        "NumPy es una biblioteca de Python que permite hacer cálculos matemáticos rápidos y eficientes, ya que está optimizada para trabajar con grandes volúmenes de datos y para realizar operaciones matemáticas avanzadas.\n",
        "\t•\t¿Por qué es útil?\n",
        "NumPy es mucho más rápido que las listas de Python para operaciones matemáticas, y permite realizar operaciones sobre múltiples elementos de un array a la vez."
      ],
      "metadata": {
        "id": "v03ep5NueWpV"
      }
    },
    {
      "cell_type": "markdown",
      "source": [
        "•\tInstalación\n",
        "Si aún no tienes NumPy, instálalo ejecutando esta celda:"
      ],
      "metadata": {
        "id": "RfW6cOrne4OC"
      }
    },
    {
      "cell_type": "code",
      "source": [
        "!pip install numpy"
      ],
      "metadata": {
        "colab": {
          "base_uri": "https://localhost:8080/"
        },
        "id": "9XqVaMCye7e6",
        "outputId": "e7efda87-5954-4223-d701-d267cea1d3af"
      },
      "execution_count": null,
      "outputs": [
        {
          "output_type": "stream",
          "name": "stdout",
          "text": [
            "Requirement already satisfied: numpy in /usr/local/lib/python3.10/dist-packages (1.26.4)\n"
          ]
        }
      ]
    },
    {
      "cell_type": "markdown",
      "source": [
        "2. Importar NumPy\n",
        "\n",
        "\t•\tEl primer paso en cualquier proyecto que use NumPy es importarlo:"
      ],
      "metadata": {
        "id": "-Xmb2vfffHK5"
      }
    },
    {
      "cell_type": "code",
      "source": [
        "import numpy as np"
      ],
      "metadata": {
        "id": "2Pr14XRtfRSI"
      },
      "execution_count": null,
      "outputs": []
    },
    {
      "cell_type": "markdown",
      "source": [
        "3. Creación de Arrays\n",
        "\n",
        "\t•\tArrays: Estructuras de datos que permiten almacenar elementos del mismo tipo. NumPy trabaja principalmente con arrays, que son similares a las listas, pero mucho más rápidos.\n",
        "\t•\tCrear un array 1D:"
      ],
      "metadata": {
        "id": "aIWlGTrbfeJG"
      }
    },
    {
      "cell_type": "code",
      "source": [
        "arr = np.array([1, 2, 3, 4, 5])\n",
        "print(arr)"
      ],
      "metadata": {
        "colab": {
          "base_uri": "https://localhost:8080/"
        },
        "id": "FVwaFjbDfrBi",
        "outputId": "09d63b6f-e03c-46dd-fbf4-cb4ebf180a58"
      },
      "execution_count": null,
      "outputs": [
        {
          "output_type": "stream",
          "name": "stdout",
          "text": [
            "[1 2 3 4 5]\n"
          ]
        }
      ]
    },
    {
      "cell_type": "markdown",
      "source": [
        "Crear arrays multidimensionales:"
      ],
      "metadata": {
        "id": "Fgh9a0EDf3C6"
      }
    },
    {
      "cell_type": "code",
      "source": [
        "# Array 2D (matriz)\n",
        "arr_2d = np.array([[1, 2, 3], [4, 5, 6]])\n",
        "print(arr_2d)\n",
        "\n",
        "# Array 3D\n",
        "arr_3d = np.array([[[1, 2], [3, 4]], [[5, 6], [7, 8]]])\n",
        "print(arr_3d)"
      ],
      "metadata": {
        "colab": {
          "base_uri": "https://localhost:8080/"
        },
        "id": "isE9CbUegE28",
        "outputId": "0b62e2de-2424-4e45-920e-65a2f2123067"
      },
      "execution_count": null,
      "outputs": [
        {
          "output_type": "stream",
          "name": "stdout",
          "text": [
            "[[1 2 3]\n",
            " [4 5 6]]\n",
            "[[[1 2]\n",
            "  [3 4]]\n",
            "\n",
            " [[5 6]\n",
            "  [7 8]]]\n"
          ]
        }
      ]
    },
    {
      "cell_type": "markdown",
      "source": [
        "4. Funciones Básicas para Crear Arrays\n",
        "\n",
        "\t•\tNumPy incluye funciones para crear arrays de ceros, unos, valores constantes, o números aleatorios:"
      ],
      "metadata": {
        "id": "dQF8cC5IgLzi"
      }
    },
    {
      "cell_type": "code",
      "source": [
        "zeros = np.zeros((2, 3))\n",
        "ones = np.ones((2, 3))\n",
        "full = np.full((2, 3), 7)\n",
        "eye = np.eye(3)  # Matriz identidad\n",
        "random_arr = np.random.random((2, 2))\n",
        "\n",
        "print(\"Zeros:\\n\", zeros)\n",
        "print(\"Ones:\\n\", ones)\n",
        "print(\"Full:\\n\", full)\n",
        "print(\"Matriz identidad:\\n\", eye)\n",
        "print(\"Array aleatorio:\\n\", random_arr)"
      ],
      "metadata": {
        "colab": {
          "base_uri": "https://localhost:8080/"
        },
        "id": "BQb-OjyZgZDc",
        "outputId": "482b1ccd-c069-4744-993e-03e58fff3f53"
      },
      "execution_count": null,
      "outputs": [
        {
          "output_type": "stream",
          "name": "stdout",
          "text": [
            "Zeros:\n",
            " [[0. 0. 0.]\n",
            " [0. 0. 0.]]\n",
            "Ones:\n",
            " [[1. 1. 1.]\n",
            " [1. 1. 1.]]\n",
            "Full:\n",
            " [[7 7 7]\n",
            " [7 7 7]]\n",
            "Matriz identidad:\n",
            " [[1. 0. 0.]\n",
            " [0. 1. 0.]\n",
            " [0. 0. 1.]]\n",
            "Array aleatorio:\n",
            " [[0.73840172 0.91805938]\n",
            " [0.83050715 0.4444673 ]]\n"
          ]
        }
      ]
    },
    {
      "cell_type": "markdown",
      "source": [
        "5. Operaciones Básicas con Arrays\n",
        "\n",
        "\t•\tRealiza operaciones matemáticas de manera rápida:"
      ],
      "metadata": {
        "id": "-J71Qy-Rgi3S"
      }
    },
    {
      "cell_type": "code",
      "source": [
        "arr1 = np.array([1, 2, 3])\n",
        "arr2 = np.array([4, 5, 6])\n",
        "\n",
        "suma = arr1 + arr2\n",
        "resta = arr1 - arr2\n",
        "multiplicacion = arr1 * arr2\n",
        "division = arr1 / arr2\n",
        "\n",
        "print(\"Suma:\", suma)\n",
        "print(\"Resta:\", resta)\n",
        "print(\"Multiplicación:\", multiplicacion)\n",
        "print(\"División:\", division)"
      ],
      "metadata": {
        "colab": {
          "base_uri": "https://localhost:8080/"
        },
        "id": "ZxBEH0S3gvBr",
        "outputId": "f68404e9-ccfb-4d52-d4de-b88f81e8c9be"
      },
      "execution_count": null,
      "outputs": [
        {
          "output_type": "stream",
          "name": "stdout",
          "text": [
            "Suma: [5 7 9]\n",
            "Resta: [-3 -3 -3]\n",
            "Multiplicación: [ 4 10 18]\n",
            "División: [0.25 0.4  0.5 ]\n"
          ]
        }
      ]
    },
    {
      "cell_type": "markdown",
      "source": [
        "6. Funciones Matemáticas en NumPy\n",
        "\n",
        "\t•\tPuedes aplicar funciones matemáticas como np.sum, np.mean, np.max, np.sqrt y np.power a arrays:"
      ],
      "metadata": {
        "id": "QGX_SkR-g13F"
      }
    },
    {
      "cell_type": "code",
      "source": [
        "arr = np.array([1, 2, 3, 4, 5])\n",
        "print(\"Suma:\", np.sum(arr))\n",
        "print(\"Promedio:\", np.mean(arr))\n",
        "print(\"Máximo:\", np.max(arr))\n",
        "print(\"Raíz cuadrada:\", np.sqrt(arr))\n",
        "print(\"Potencia (elevando cada elemento al cuadrado):\", np.power(arr, 2))"
      ],
      "metadata": {
        "colab": {
          "base_uri": "https://localhost:8080/"
        },
        "id": "gtJ6d9BCg9lH",
        "outputId": "0b06c330-a027-4769-e26d-ade6a003d82f"
      },
      "execution_count": null,
      "outputs": [
        {
          "output_type": "stream",
          "name": "stdout",
          "text": [
            "Suma: 15\n",
            "Promedio: 3.0\n",
            "Máximo: 5\n",
            "Raíz cuadrada: [1.         1.41421356 1.73205081 2.         2.23606798]\n",
            "Potencia (elevando cada elemento al cuadrado): [ 1  4  9 16 25]\n"
          ]
        }
      ]
    },
    {
      "cell_type": "markdown",
      "source": [
        "7. Indexación y Slicing en Arrays\n",
        "\n",
        "\t•\tLa indexación y el slicing te permiten seleccionar partes específicas de un array:"
      ],
      "metadata": {
        "id": "zhuxfQq7hClZ"
      }
    },
    {
      "cell_type": "code",
      "source": [
        "arr = np.array([10, 20, 30, 40, 50])\n",
        "print(\"Elemento en la posición 1:\", arr[1])\n",
        "print(\"Último elemento:\", arr[-1])\n",
        "print(\"Slicing (del índice 1 al 3):\", arr[1:4])"
      ],
      "metadata": {
        "colab": {
          "base_uri": "https://localhost:8080/"
        },
        "id": "vTj1D657hJZ-",
        "outputId": "12689a17-3723-44dc-dabf-ec3b26158baf"
      },
      "execution_count": null,
      "outputs": [
        {
          "output_type": "stream",
          "name": "stdout",
          "text": [
            "Elemento en la posición 1: 20\n",
            "Último elemento: 50\n",
            "Slicing (del índice 1 al 3): [20 30 40]\n"
          ]
        }
      ]
    },
    {
      "cell_type": "markdown",
      "source": [
        "8. Modificación de la Forma de un Array\n",
        "\n",
        "\t•\tPuedes cambiar la forma de un array sin modificar sus datos:"
      ],
      "metadata": {
        "id": "pNEqPjklhdBX"
      }
    },
    {
      "cell_type": "code",
      "source": [
        "arr = np.array([1, 2, 3, 4, 5, 6])\n",
        "arr_reshaped = arr.reshape(2, 3)\n",
        "print(\"Array original:\", arr)\n",
        "print(\"Array reshaped (2x3):\\n\", arr_reshaped)"
      ],
      "metadata": {
        "colab": {
          "base_uri": "https://localhost:8080/"
        },
        "id": "SCWvHCUKhe9p",
        "outputId": "5b6e4f86-be93-47e1-9229-7fbb77741321"
      },
      "execution_count": null,
      "outputs": [
        {
          "output_type": "stream",
          "name": "stdout",
          "text": [
            "Array original: [1 2 3 4 5 6]\n",
            "Array reshaped (2x3):\n",
            " [[1 2 3]\n",
            " [4 5 6]]\n"
          ]
        }
      ]
    },
    {
      "cell_type": "markdown",
      "source": [
        "9. Tabla de Potencias\n",
        "\n",
        "\t•\tPara crear una tabla de potencias (similar a un triángulo) que muestre valores elevados a diferentes exponentes, podemos usar un array 2D:"
      ],
      "metadata": {
        "id": "F9AQomT5hlRM"
      }
    },
    {
      "cell_type": "code",
      "source": [
        "# Crear un array de base\n",
        "base = np.arange(1, 6)  # Números del 1 al 5\n",
        "\n",
        "# Generar la tabla de potencias usando un bucle o broadcasting\n",
        "potencias = np.array([np.power(base, i) for i in range(1, 6)])\n",
        "\n",
        "print(\"Tabla de potencias:\\n\", potencias)"
      ],
      "metadata": {
        "colab": {
          "base_uri": "https://localhost:8080/"
        },
        "id": "VQWFFxNqhsFk",
        "outputId": "09836b4c-d243-4f7a-9f1f-3911d9be4484"
      },
      "execution_count": null,
      "outputs": [
        {
          "output_type": "stream",
          "name": "stdout",
          "text": [
            "Tabla de potencias:\n",
            " [[   1    2    3    4    5]\n",
            " [   1    4    9   16   25]\n",
            " [   1    8   27   64  125]\n",
            " [   1   16   81  256  625]\n",
            " [   1   32  243 1024 3125]]\n"
          ]
        }
      ]
    },
    {
      "cell_type": "markdown",
      "source": [
        "•\tEn esta tabla, cada fila representa el valor base elevado a una potencia diferente (1, 2, 3, etc.)."
      ],
      "metadata": {
        "id": "lTB2vx2kiCX2"
      }
    },
    {
      "cell_type": "markdown",
      "source": [
        "10. Álgebra Lineal con NumPy\n",
        "\n",
        "\t•\tOperaciones avanzadas como el producto punto (np.dot), transposición (np.transpose), y más:"
      ],
      "metadata": {
        "id": "2cj91gzMiF4x"
      }
    },
    {
      "cell_type": "code",
      "source": [
        "# Producto punto\n",
        "a = np.array([1, 2])\n",
        "b = np.array([3, 4])\n",
        "print(\"Producto punto:\", np.dot(a, b))\n",
        "\n",
        "# Multiplicación de matrices\n",
        "A = np.array([[1, 2], [3, 4]])\n",
        "B = np.array([[5, 6], [7, 8]])\n",
        "print(\"Multiplicación de matrices:\\n\", np.dot(A, B))\n",
        "\n",
        "# Transposición\n",
        "print(\"Transposición de A:\\n\", A.T)"
      ],
      "metadata": {
        "colab": {
          "base_uri": "https://localhost:8080/"
        },
        "id": "DyB_rTnqiM_1",
        "outputId": "1884998b-d111-4303-e5ba-75d6bbb05272"
      },
      "execution_count": null,
      "outputs": [
        {
          "output_type": "stream",
          "name": "stdout",
          "text": [
            "Producto punto: 11\n",
            "Multiplicación de matrices:\n",
            " [[19 22]\n",
            " [43 50]]\n",
            "Transposición de A:\n",
            " [[1 3]\n",
            " [2 4]]\n"
          ]
        }
      ]
    },
    {
      "cell_type": "markdown",
      "source": [
        "11. Filtrado de Arrays\n",
        "\n",
        "\t•\tSeleccionar elementos que cumplen una condición:"
      ],
      "metadata": {
        "id": "KcMLvKYaiT2u"
      }
    },
    {
      "cell_type": "code",
      "source": [
        "arr = np.array([10, 20, 30, 40, 50])\n",
        "print(\"Elementos mayores a 30:\", arr[arr > 30])"
      ],
      "metadata": {
        "colab": {
          "base_uri": "https://localhost:8080/"
        },
        "id": "5IbL6EL1ieQp",
        "outputId": "58c700b6-07a1-415a-8a4d-7fbea578f09a"
      },
      "execution_count": null,
      "outputs": [
        {
          "output_type": "stream",
          "name": "stdout",
          "text": [
            "Elementos mayores a 30: [40 50]\n"
          ]
        }
      ]
    },
    {
      "cell_type": "markdown",
      "source": [
        "12. Conclusión\n",
        "\n",
        "\t•\tNumPy es una herramienta poderosa para realizar operaciones matemáticas complejas en Python. Esta Notebook te ha enseñado a crear arrays, realizar operaciones matemáticas y manipular datos de manera eficiente."
      ],
      "metadata": {
        "id": "XN3FRaJKijcy"
      }
    },
    {
      "cell_type": "markdown",
      "source": [
        "Ejemplos en Cada Sección del Tutorial"
      ],
      "metadata": {
        "id": "IQBg0eE7Ubyi"
      }
    },
    {
      "cell_type": "markdown",
      "source": [
        "Importar NumPy"
      ],
      "metadata": {
        "id": "X1B8V_mDUfOu"
      }
    },
    {
      "cell_type": "code",
      "source": [
        "import numpy as np"
      ],
      "metadata": {
        "id": "epSsj6ohUoco"
      },
      "execution_count": null,
      "outputs": []
    },
    {
      "cell_type": "markdown",
      "source": [
        "2.\tCreación de Arrays\n",
        "\t•\tArray 1D (vector):"
      ],
      "metadata": {
        "id": "iu0vMsVoU5jl"
      }
    },
    {
      "cell_type": "code",
      "source": [
        "arr = np.array([1, 2, 3, 4, 5])\n",
        "print(arr)"
      ],
      "metadata": {
        "colab": {
          "base_uri": "https://localhost:8080/"
        },
        "id": "tOv9R6E6U8jg",
        "outputId": "814b5763-0fe5-4783-f45f-0fdfe9d02bc4"
      },
      "execution_count": null,
      "outputs": [
        {
          "output_type": "stream",
          "name": "stdout",
          "text": [
            "[1 2 3 4 5]\n"
          ]
        }
      ]
    },
    {
      "cell_type": "markdown",
      "source": [
        "Array 2D y 3D (matrices):"
      ],
      "metadata": {
        "id": "MdawJO2HVDjP"
      }
    },
    {
      "cell_type": "code",
      "source": [
        "arr_2d = np.array([[1, 2, 3], [4, 5, 6]])\n",
        "arr_3d = np.array([[[1, 2], [3, 4]], [[5, 6], [7, 8]]])\n",
        "print(\"Array 2D:\\n\", arr_2d)\n",
        "print(\"Array 3D:\\n\", arr_3d)"
      ],
      "metadata": {
        "colab": {
          "base_uri": "https://localhost:8080/"
        },
        "id": "rYnAY98ZVJO5",
        "outputId": "0c767bbc-7037-43e3-ae6e-0bf3de8203b0"
      },
      "execution_count": null,
      "outputs": [
        {
          "output_type": "stream",
          "name": "stdout",
          "text": [
            "Array 2D:\n",
            " [[1 2 3]\n",
            " [4 5 6]]\n",
            "Array 3D:\n",
            " [[[1 2]\n",
            "  [3 4]]\n",
            "\n",
            " [[5 6]\n",
            "  [7 8]]]\n"
          ]
        }
      ]
    },
    {
      "cell_type": "markdown",
      "source": [
        "3.\tFunciones Básicas para Crear Arrays"
      ],
      "metadata": {
        "id": "dgbNu-onVQPk"
      }
    },
    {
      "cell_type": "code",
      "source": [
        "zeros = np.zeros((2, 3))\n",
        "ones = np.ones((2, 3))\n",
        "full = np.full((2, 3), 7)\n",
        "eye = np.eye(3)  # Matriz identidad\n",
        "random_arr = np.random.random((2, 2))\n",
        "\n",
        "print(\"Zeros:\\n\", zeros)\n",
        "print(\"Ones:\\n\", ones)\n",
        "print(\"Full:\\n\", full)\n",
        "print(\"Matriz identidad:\\n\", eye)\n",
        "print(\"Array aleatorio:\\n\", random_arr)"
      ],
      "metadata": {
        "colab": {
          "base_uri": "https://localhost:8080/"
        },
        "id": "L4KheKn5VU58",
        "outputId": "7834e1c0-e170-44cd-a7c0-8435950fdc36"
      },
      "execution_count": null,
      "outputs": [
        {
          "output_type": "stream",
          "name": "stdout",
          "text": [
            "Zeros:\n",
            " [[0. 0. 0.]\n",
            " [0. 0. 0.]]\n",
            "Ones:\n",
            " [[1. 1. 1.]\n",
            " [1. 1. 1.]]\n",
            "Full:\n",
            " [[7 7 7]\n",
            " [7 7 7]]\n",
            "Matriz identidad:\n",
            " [[1. 0. 0.]\n",
            " [0. 1. 0.]\n",
            " [0. 0. 1.]]\n",
            "Array aleatorio:\n",
            " [[0.98714033 0.93488129]\n",
            " [0.90568529 0.09603106]]\n"
          ]
        }
      ]
    },
    {
      "cell_type": "markdown",
      "source": [
        "4.\tOperaciones Básicas con Arrays"
      ],
      "metadata": {
        "id": "YckPYifZVa-H"
      }
    },
    {
      "cell_type": "code",
      "source": [
        "arr1 = np.array([1, 2, 3])\n",
        "arr2 = np.array([4, 5, 6])\n",
        "\n",
        "suma = arr1 + arr2\n",
        "resta = arr1 - arr2\n",
        "multiplicacion = arr1 * arr2\n",
        "division = arr1 / arr2\n",
        "\n",
        "print(\"Suma:\", suma)\n",
        "print(\"Resta:\", resta)\n",
        "print(\"Multiplicación:\", multiplicacion)\n",
        "print(\"División:\", division)"
      ],
      "metadata": {
        "colab": {
          "base_uri": "https://localhost:8080/"
        },
        "id": "pc--pIRfVgaC",
        "outputId": "c0d80820-1663-42cb-9715-aaeaeaf44cef"
      },
      "execution_count": null,
      "outputs": [
        {
          "output_type": "stream",
          "name": "stdout",
          "text": [
            "Suma: [5 7 9]\n",
            "Resta: [-3 -3 -3]\n",
            "Multiplicación: [ 4 10 18]\n",
            "División: [0.25 0.4  0.5 ]\n"
          ]
        }
      ]
    },
    {
      "cell_type": "markdown",
      "source": [
        "5.\tFunciones Matemáticas en NumPy"
      ],
      "metadata": {
        "id": "XWy-GUSLVlou"
      }
    },
    {
      "cell_type": "code",
      "source": [
        "arr = np.array([1, 2, 3, 4, 5])\n",
        "print(\"Suma:\", np.sum(arr))\n",
        "print(\"Promedio:\", np.mean(arr))\n",
        "print(\"Máximo:\", np.max(arr))\n",
        "print(\"Raíz cuadrada:\", np.sqrt(arr))\n",
        "print(\"Potencia (elevando cada elemento al cuadrado):\", np.power(arr, 2))"
      ],
      "metadata": {
        "colab": {
          "base_uri": "https://localhost:8080/"
        },
        "id": "QZKnCQZDVqt6",
        "outputId": "629dd3cb-035e-4a61-a5b2-9a361b81527f"
      },
      "execution_count": null,
      "outputs": [
        {
          "output_type": "stream",
          "name": "stdout",
          "text": [
            "Suma: 15\n",
            "Promedio: 3.0\n",
            "Máximo: 5\n",
            "Raíz cuadrada: [1.         1.41421356 1.73205081 2.         2.23606798]\n",
            "Potencia (elevando cada elemento al cuadrado): [ 1  4  9 16 25]\n"
          ]
        }
      ]
    },
    {
      "cell_type": "markdown",
      "source": [
        "6.\tIndexación y Slicing en Arrays"
      ],
      "metadata": {
        "id": "4He-P0nTVuls"
      }
    },
    {
      "cell_type": "code",
      "source": [
        "arr = np.array([10, 20, 30, 40, 50])\n",
        "print(\"Elemento en la posición 1:\", arr[1])\n",
        "print(\"Último elemento:\", arr[-1])\n",
        "print(\"Slicing (del índice 1 al 3):\", arr[1:4])"
      ],
      "metadata": {
        "colab": {
          "base_uri": "https://localhost:8080/"
        },
        "id": "zA73Nel0Vycu",
        "outputId": "7adde622-9ddf-4ee0-ee38-9ac2f60bc4e6"
      },
      "execution_count": null,
      "outputs": [
        {
          "output_type": "stream",
          "name": "stdout",
          "text": [
            "Elemento en la posición 1: 20\n",
            "Último elemento: 50\n",
            "Slicing (del índice 1 al 3): [20 30 40]\n"
          ]
        }
      ]
    },
    {
      "cell_type": "markdown",
      "source": [
        "7.\tModificación de la Forma de un Array"
      ],
      "metadata": {
        "id": "Um0em73YV42Q"
      }
    },
    {
      "cell_type": "code",
      "source": [
        "arr = np.array([1, 2, 3, 4, 5, 6])\n",
        "arr_reshaped = arr.reshape(2, 3)\n",
        "print(\"Array original:\", arr)\n",
        "print(\"Array reshaped (2x3):\\n\", arr_reshaped)"
      ],
      "metadata": {
        "colab": {
          "base_uri": "https://localhost:8080/"
        },
        "id": "Jf6U-AszV8__",
        "outputId": "881769d6-5acd-4402-9a3f-587b2d332e8b"
      },
      "execution_count": null,
      "outputs": [
        {
          "output_type": "stream",
          "name": "stdout",
          "text": [
            "Array original: [1 2 3 4 5 6]\n",
            "Array reshaped (2x3):\n",
            " [[1 2 3]\n",
            " [4 5 6]]\n"
          ]
        }
      ]
    },
    {
      "cell_type": "markdown",
      "source": [
        "8.\tTabla de Potencias\n",
        "\t•\tEjemplo de cómo generar una tabla de potencias:"
      ],
      "metadata": {
        "id": "sqUuq9oMWCKZ"
      }
    },
    {
      "cell_type": "code",
      "source": [
        "base = np.arange(1, 6)\n",
        "potencias = np.array([np.power(base, i) for i in range(1, 6)])\n",
        "print(\"Tabla de potencias:\\n\", potencias)"
      ],
      "metadata": {
        "colab": {
          "base_uri": "https://localhost:8080/"
        },
        "id": "byATF7zUWU90",
        "outputId": "0aff00cf-c294-4b10-a9bc-edca40f29766"
      },
      "execution_count": null,
      "outputs": [
        {
          "output_type": "stream",
          "name": "stdout",
          "text": [
            "Tabla de potencias:\n",
            " [[   1    2    3    4    5]\n",
            " [   1    4    9   16   25]\n",
            " [   1    8   27   64  125]\n",
            " [   1   16   81  256  625]\n",
            " [   1   32  243 1024 3125]]\n"
          ]
        }
      ]
    },
    {
      "cell_type": "markdown",
      "source": [
        "9.\tÁlgebra Lineal con NumPy"
      ],
      "metadata": {
        "id": "I3uevst2WZpL"
      }
    },
    {
      "cell_type": "code",
      "source": [
        "a = np.array([1, 2])\n",
        "b = np.array([3, 4])\n",
        "A = np.array([[1, 2], [3, 4]])\n",
        "B = np.array([[5, 6], [7, 8]])\n",
        "\n",
        "print(\"Producto punto:\", np.dot(a, b))\n",
        "print(\"Multiplicación de matrices:\\n\", np.dot(A, B))\n",
        "print(\"Transposición de A:\\n\", A.T)"
      ],
      "metadata": {
        "colab": {
          "base_uri": "https://localhost:8080/"
        },
        "id": "sBUoUVKTWd7B",
        "outputId": "e3990cb1-b849-41c1-cea6-9dc9268c7205"
      },
      "execution_count": null,
      "outputs": [
        {
          "output_type": "stream",
          "name": "stdout",
          "text": [
            "Producto punto: 11\n",
            "Multiplicación de matrices:\n",
            " [[19 22]\n",
            " [43 50]]\n",
            "Transposición de A:\n",
            " [[1 3]\n",
            " [2 4]]\n"
          ]
        }
      ]
    },
    {
      "cell_type": "markdown",
      "source": [
        "10.\tFiltrado de Arrays"
      ],
      "metadata": {
        "id": "YGg-IWVQWh7o"
      }
    },
    {
      "cell_type": "code",
      "source": [
        "arr = np.array([10, 20, 30, 40, 50])\n",
        "print(\"Elementos mayores a 30:\", arr[arr > 30])"
      ],
      "metadata": {
        "id": "-ZEMo5MxWngU",
        "outputId": "27e6890c-b4b5-46fc-beab-fbb5a2fd3664",
        "colab": {
          "base_uri": "https://localhost:8080/"
        }
      },
      "execution_count": null,
      "outputs": [
        {
          "output_type": "stream",
          "name": "stdout",
          "text": [
            "Elementos mayores a 30: [40 50]\n"
          ]
        }
      ]
    },
    {
      "cell_type": "markdown",
      "source": [
        "La interpolación se utiliza para estimar valores entre puntos conocidos en un conjunto de datos. NumPy no tiene una función directa para interpolar, pero podemos usar numpy.interp para interpolación lineal y SciPy para métodos más avanzados, como polinomios de interpolación."
      ],
      "metadata": {
        "id": "P5IlQPabsjYz"
      }
    },
    {
      "cell_type": "markdown",
      "source": [
        "Interpolación Lineal con NumPy\n",
        "\n",
        "La función numpy.interp realiza una interpolación lineal. Ejemplo:"
      ],
      "metadata": {
        "id": "rA9jP-DVt1pn"
      }
    },
    {
      "cell_type": "code",
      "source": [
        "import numpy as np\n",
        "\n",
        "# Datos conocidos\n",
        "x = np.array([0, 1, 2, 3, 4, 5])\n",
        "y = np.array([0, 1, 4, 9, 16, 25])\n",
        "\n",
        "# Interpolar valores para puntos intermedios\n",
        "x_new = np.linspace(0, 5, 50)  # Nuevos puntos donde queremos estimar valores\n",
        "y_new = np.interp(x_new, x, y)\n",
        "\n",
        "print(\"Puntos originales:\", y)\n",
        "print(\"Valores interpolados:\", y_new)"
      ],
      "metadata": {
        "colab": {
          "base_uri": "https://localhost:8080/"
        },
        "collapsed": true,
        "id": "I-exf_Vzt4CK",
        "outputId": "d819dcdf-76f6-40c1-c4b9-bc865c7ba82f"
      },
      "execution_count": 8,
      "outputs": [
        {
          "output_type": "stream",
          "name": "stdout",
          "text": [
            "Puntos originales: [ 0  1  4  9 16 25]\n",
            "Valores interpolados: [ 0.          0.10204082  0.20408163  0.30612245  0.40816327  0.51020408\n",
            "  0.6122449   0.71428571  0.81632653  0.91836735  1.06122449  1.36734694\n",
            "  1.67346939  1.97959184  2.28571429  2.59183673  2.89795918  3.20408163\n",
            "  3.51020408  3.81632653  4.20408163  4.71428571  5.2244898   5.73469388\n",
            "  6.24489796  6.75510204  7.26530612  7.7755102   8.28571429  8.79591837\n",
            "  9.42857143 10.14285714 10.85714286 11.57142857 12.28571429 13.\n",
            " 13.71428571 14.42857143 15.14285714 15.85714286 16.73469388 17.65306122\n",
            " 18.57142857 19.48979592 20.40816327 21.32653061 22.24489796 23.16326531\n",
            " 24.08163265 25.        ]\n"
          ]
        }
      ]
    },
    {
      "cell_type": "markdown",
      "source": [
        "Interpolación con SciPy\n",
        "\n",
        "El paquete SciPy ofrece herramientas avanzadas de interpolación, como polinomios de interpolación. Necesitarás instalar SciPy si aún no lo tienes:"
      ],
      "metadata": {
        "id": "8oKPmUowuJPS"
      }
    },
    {
      "cell_type": "code",
      "source": [
        "pip install scipy"
      ],
      "metadata": {
        "colab": {
          "base_uri": "https://localhost:8080/"
        },
        "id": "Hls_BXOjuVjE",
        "outputId": "7dc4a5f1-c3da-4108-dce6-d367cc562533"
      },
      "execution_count": 2,
      "outputs": [
        {
          "output_type": "stream",
          "name": "stdout",
          "text": [
            "Requirement already satisfied: scipy in /usr/local/lib/python3.10/dist-packages (1.13.1)\n",
            "Requirement already satisfied: numpy<2.3,>=1.22.4 in /usr/local/lib/python3.10/dist-packages (from scipy) (1.26.4)\n"
          ]
        }
      ]
    },
    {
      "cell_type": "markdown",
      "source": [
        "Ejemplo de interpolación polinómica usando scipy.interpolate:"
      ],
      "metadata": {
        "id": "UHXkycR3vIij"
      }
    },
    {
      "cell_type": "code",
      "source": [
        "from scipy.interpolate import interp1d\n",
        "import matplotlib.pyplot as plt\n",
        "\n",
        "# Datos conocidos\n",
        "x = np.array([0, 1, 2, 3, 4, 5])\n",
        "y = np.array([0, 1, 4, 9, 16, 25])\n",
        "\n",
        "# Crear la función de interpolación\n",
        "interpolacion = interp1d(x, y, kind='cubic')  # También puedes usar 'linear' o 'quadratic'\n",
        "\n",
        "# Valores para interpolar\n",
        "x_new = np.linspace(0, 5, 100)\n",
        "y_new = interpolacion(x_new)\n",
        "\n",
        "# Graficar\n",
        "plt.scatter(x, y, color='red', label='Puntos originales')  # Puntos conocidos\n",
        "plt.plot(x_new, y_new, color='blue', label='Interpolación cúbica')  # Interpolación\n",
        "plt.legend()\n",
        "plt.title(\"Interpolación con SciPy\")\n",
        "plt.xlabel(\"x\")\n",
        "plt.ylabel(\"y\")\n",
        "plt.show()"
      ],
      "metadata": {
        "colab": {
          "base_uri": "https://localhost:8080/",
          "height": 472
        },
        "id": "gS9_aWb2vRD7",
        "outputId": "2e5c13db-35fd-4f10-fb3f-f75f85a43719"
      },
      "execution_count": 3,
      "outputs": [
        {
          "output_type": "display_data",
          "data": {
            "text/plain": [
              "<Figure size 640x480 with 1 Axes>"
            ],
            "image/png": "[encoded data removed]"
          },
          "metadata": {}
        }
      ]
    },
    {
      "cell_type": "markdown",
      "source": [
        "Polinomios de Interpolación\n",
        "\n",
        "Otra forma de interpolar es usar polinomios de Lagrange o ajustes polinómicos. Esto se puede hacer con SciPy o NumPy.\n",
        "\n",
        "Ejemplo: Polinomio de Lagrange"
      ],
      "metadata": {
        "id": "XNtgyIqnvcQj"
      }
    },
    {
      "cell_type": "code",
      "source": [
        "from scipy.interpolate import lagrange\n",
        "\n",
        "# Datos conocidos\n",
        "x = np.array([0, 1, 2, 3])\n",
        "y = np.array([1, 2, 0, 5])\n",
        "\n",
        "# Generar el polinomio de Lagrange\n",
        "polinomio = lagrange(x, y)\n",
        "print(\"Polinomio de interpolación:\", polinomio)\n",
        "\n",
        "# Evaluar el polinomio en nuevos puntos\n",
        "x_new = np.linspace(0, 3, 100)\n",
        "y_new = polinomio(x_new)\n",
        "\n",
        "# Graficar\n",
        "plt.scatter(x, y, color='red', label='Puntos originales')\n",
        "plt.plot(x_new, y_new, color='green', label='Polinomio de Lagrange')\n",
        "plt.legend()\n",
        "plt.title(\"Interpolación Polinómica con Lagrange\")\n",
        "plt.xlabel(\"x\")\n",
        "plt.ylabel(\"y\")\n",
        "plt.show()"
      ],
      "metadata": {
        "colab": {
          "base_uri": "https://localhost:8080/",
          "height": 508
        },
        "id": "IjeIumOSvk_E",
        "outputId": "84ef531e-b02b-4d75-a269-40962b91d7e6"
      },
      "execution_count": 4,
      "outputs": [
        {
          "output_type": "stream",
          "name": "stdout",
          "text": [
            "Polinomio de interpolación:        3       2\n",
            "1.667 x - 6.5 x + 5.833 x + 1\n"
          ]
        },
        {
          "output_type": "display_data",
          "data": {
            "text/plain": [
              "<Figure size 640x480 with 1 Axes>"
            ],
            "image/png": "[encoded data removed]"
          },
          "metadata": {}
        }
      ]
    },
    {
      "cell_type": "markdown",
      "source": [
        "Operaciones de Interpolación\n",
        "\n",
        "La interpolación no solo consiste en estimar puntos intermedios, sino también en realizar diversas operaciones relacionadas, como ajustar polinomios, evaluar funciones interpoladas y calcular diferencias finitas."
      ],
      "metadata": {
        "id": "bR-93cZ4vtP8"
      }
    },
    {
      "cell_type": "markdown",
      "source": [
        "Interpolación Lineal\n",
        "\n",
        "La interpolación lineal utiliza líneas rectas entre los puntos conocidos para estimar los valores intermedios."
      ],
      "metadata": {
        "id": "yki2lguuv0AM"
      }
    },
    {
      "cell_type": "code",
      "source": [
        "import numpy as np\n",
        "\n",
        "# Puntos conocidos\n",
        "x = np.array([0, 1, 2, 3, 4])\n",
        "y = np.array([1, 2, 0, 2, 1])\n",
        "\n",
        "# Puntos a interpolar\n",
        "x_interpolado = np.linspace(0, 4, 50)  # Dividir en 50 puntos intermedios\n",
        "y_interpolado = np.interp(x_interpolado, x, y)\n",
        "\n",
        "# Mostrar resultados\n",
        "print(\"Valores interpolados:\", y_interpolado)"
      ],
      "metadata": {
        "colab": {
          "base_uri": "https://localhost:8080/"
        },
        "collapsed": true,
        "id": "xZjNZMfzv6Rd",
        "outputId": "fe503728-c424-47d6-e574-14fd2df9f186"
      },
      "execution_count": 7,
      "outputs": [
        {
          "output_type": "stream",
          "name": "stdout",
          "text": [
            "Valores interpolados: [1.         1.08163265 1.16326531 1.24489796 1.32653061 1.40816327\n",
            " 1.48979592 1.57142857 1.65306122 1.73469388 1.81632653 1.89795918\n",
            " 1.97959184 1.87755102 1.71428571 1.55102041 1.3877551  1.2244898\n",
            " 1.06122449 0.89795918 0.73469388 0.57142857 0.40816327 0.24489796\n",
            " 0.08163265 0.08163265 0.24489796 0.40816327 0.57142857 0.73469388\n",
            " 0.89795918 1.06122449 1.2244898  1.3877551  1.55102041 1.71428571\n",
            " 1.87755102 1.97959184 1.89795918 1.81632653 1.73469388 1.65306122\n",
            " 1.57142857 1.48979592 1.40816327 1.32653061 1.24489796 1.16326531\n",
            " 1.08163265 1.        ]\n"
          ]
        }
      ]
    },
    {
      "cell_type": "markdown",
      "source": [
        "Interpolación Polinómica\n",
        "\n",
        "Un polinomio de interpolación es una función que pasa exactamente por los puntos conocidos. Este método es más flexible, pero puede ser inestable para muchos puntos."
      ],
      "metadata": {
        "id": "Z37j3biNwCD8"
      }
    },
    {
      "cell_type": "code",
      "source": [
        "from scipy.interpolate import lagrange\n",
        "import matplotlib.pyplot as plt\n",
        "\n",
        "# Puntos conocidos\n",
        "x = np.array([0, 1, 2, 3])\n",
        "y = np.array([1, 2, 0, 3])\n",
        "\n",
        "# Generar el polinomio de Lagrange\n",
        "polinomio = lagrange(x, y)\n",
        "\n",
        "# Evaluar el polinomio\n",
        "x_evaluado = np.linspace(0, 3, 100)\n",
        "y_evaluado = polinomio(x_evaluado)\n",
        "\n",
        "# Graficar\n",
        "plt.scatter(x, y, color='red', label='Puntos conocidos')\n",
        "plt.plot(x_evaluado, y_evaluado, label='Polinomio de interpolación', color='blue')\n",
        "plt.title(\"Interpolación Polinómica con Lagrange\")\n",
        "plt.legend()\n",
        "plt.show()"
      ],
      "metadata": {
        "colab": {
          "base_uri": "https://localhost:8080/",
          "height": 453
        },
        "id": "63CZR24RwIID",
        "outputId": "a93f3e28-36d3-4849-8645-3f71bc4d4796"
      },
      "execution_count": 6,
      "outputs": [
        {
          "output_type": "display_data",
          "data": {
            "text/plain": [
              "<Figure size 640x480 with 1 Axes>"
            ],
            "image/png": "[encoded data removed]"
          },
          "metadata": {}
        }
      ]
    },
    {
      "cell_type": "markdown",
      "source": [
        "Interpolación Cúbica\n",
        "\n",
        "La interpolación cúbica utiliza polinomios de tercer grado entre los puntos conocidos. Este método produce curvas más suaves que la interpolación lineal."
      ],
      "metadata": {
        "id": "MLGewp74wVOh"
      }
    },
    {
      "cell_type": "code",
      "source": [
        "from scipy.interpolate import interp1d\n",
        "\n",
        "# Puntos conocidos\n",
        "x = np.array([0, 1, 2, 3, 4])\n",
        "y = np.array([1, 2, 0, 2, 1])\n",
        "\n",
        "# Interpolación cúbica\n",
        "interpolacion_cubica = interp1d(x, y, kind='cubic')\n",
        "\n",
        "# Nuevos puntos\n",
        "x_nuevo = np.linspace(0, 4, 100)\n",
        "y_nuevo = interpolacion_cubica(x_nuevo)\n",
        "\n",
        "# Graficar\n",
        "plt.scatter(x, y, color='red', label='Puntos conocidos')\n",
        "plt.plot(x_nuevo, y_nuevo, label='Interpolación cúbica', color='green')\n",
        "plt.title(\"Interpolación Cúbica\")\n",
        "plt.legend()\n",
        "plt.show()"
      ],
      "metadata": {
        "colab": {
          "base_uri": "https://localhost:8080/",
          "height": 453
        },
        "id": "d_WARCaCwcSW",
        "outputId": "216b2f9e-4200-41e0-aafb-1ee0781eb489"
      },
      "execution_count": 9,
      "outputs": [
        {
          "output_type": "display_data",
          "data": {
            "text/plain": [
              "<Figure size 640x480 with 1 Axes>"
            ],
            "image/png": "[encoded data removed]"
          },
          "metadata": {}
        }
      ]
    },
    {
      "cell_type": "markdown",
      "source": [
        "Evaluación del Polinomio\n",
        "\n",
        "Una vez que se obtiene un polinomio de interpolación, se puede evaluar en puntos específicos."
      ],
      "metadata": {
        "id": "Yod6qLPrwg8H"
      }
    },
    {
      "cell_type": "code",
      "source": [
        "# Evaluar el polinomio en un punto específico\n",
        "punto = 2.5\n",
        "valor = polinomio(punto)\n",
        "print(f\"El valor interpolado en x = {punto} es {valor}\")"
      ],
      "metadata": {
        "colab": {
          "base_uri": "https://localhost:8080/"
        },
        "id": "EhTzPIKjwmIa",
        "outputId": "040939ad-d180-472d-a48a-652c2f0d602e"
      },
      "execution_count": 10,
      "outputs": [
        {
          "output_type": "stream",
          "name": "stdout",
          "text": [
            "El valor interpolado en x = 2.5 es 0.37500000000000444\n"
          ]
        }
      ]
    },
    {
      "cell_type": "markdown",
      "source": [
        "Diferencias Finitas\n",
        "\n",
        "Las diferencias finitas son útiles para calcular derivadas numéricas y evaluar cambios entre puntos conocidos."
      ],
      "metadata": {
        "id": "p8bHwOjEwrio"
      }
    },
    {
      "cell_type": "code",
      "source": [
        "# Diferencias finitas\n",
        "diferencias = np.diff(y) / np.diff(x)\n",
        "print(\"Diferencias finitas:\", diferencias)"
      ],
      "metadata": {
        "colab": {
          "base_uri": "https://localhost:8080/"
        },
        "id": "smo-bppFwxRk",
        "outputId": "26c32388-063e-4a3e-eabf-272e99bd71b6"
      },
      "execution_count": 11,
      "outputs": [
        {
          "output_type": "stream",
          "name": "stdout",
          "text": [
            "Diferencias finitas: [ 1. -2.  2. -1.]\n"
          ]
        }
      ]
    },
    {
      "cell_type": "markdown",
      "source": [
        "Ajuste Polinómico\n",
        "\n",
        "El ajuste polinómico encuentra un polinomio que se aproxima a un conjunto de puntos, pero no necesariamente pasa por ellos. Se utiliza numpy.polyfit."
      ],
      "metadata": {
        "id": "m-VAlqdcw3Ef"
      }
    },
    {
      "cell_type": "code",
      "source": [
        "# Ajustar un polinomio de grado 2\n",
        "coeficientes = np.polyfit(x, y, 2)\n",
        "polinomio_ajustado = np.poly1d(coeficientes)\n",
        "\n",
        "# Evaluar el ajuste\n",
        "x_ajuste = np.linspace(0, 4, 100)\n",
        "y_ajuste = polinomio_ajustado(x_ajuste)\n",
        "\n",
        "# Graficar\n",
        "plt.scatter(x, y, color='red', label='Puntos conocidos')\n",
        "plt.plot(x_ajuste, y_ajuste, label='Ajuste Polinómico', color='purple')\n",
        "plt.title(\"Ajuste Polinómico\")\n",
        "plt.legend()\n",
        "plt.show()"
      ],
      "metadata": {
        "colab": {
          "base_uri": "https://localhost:8080/",
          "height": 453
        },
        "id": "YO0Qn9s-w8vS",
        "outputId": "31348320-63d0-4cc3-e932-6a9f62de32e4"
      },
      "execution_count": 12,
      "outputs": [
        {
          "output_type": "display_data",
          "data": {
            "text/plain": [
              "<Figure size 640x480 with 1 Axes>"
            ],
            "image/png": "[encoded data removed]"
          },
          "metadata": {}
        }
      ]
    },
    {
      "cell_type": "markdown",
      "source": [
        "Interpolación Multidimensional\n",
        "\n",
        "En casos donde los datos son multidimensionales, se puede usar scipy.interpolate.griddata."
      ],
      "metadata": {
        "id": "LSXh1yf8xCpK"
      }
    },
    {
      "cell_type": "code",
      "source": [
        "from scipy.interpolate import griddata\n",
        "\n",
        "# Datos en 2D\n",
        "puntos = np.array([[0, 0], [0, 1], [1, 0], [1, 1]])\n",
        "valores = np.array([1, 2, 3, 4])\n",
        "\n",
        "# Puntos para interpolar\n",
        "puntos_nuevos = np.array([[0.5, 0.5], [0.2, 0.8]])\n",
        "valores_interpolados = griddata(puntos, valores, puntos_nuevos, method='linear')\n",
        "\n",
        "print(\"Valores interpolados en puntos nuevos:\", valores_interpolados)"
      ],
      "metadata": {
        "colab": {
          "base_uri": "https://localhost:8080/"
        },
        "id": "dWylZZyWxG1v",
        "outputId": "16a32fb3-2884-4806-a823-c5f64c51e004"
      },
      "execution_count": 13,
      "outputs": [
        {
          "output_type": "stream",
          "name": "stdout",
          "text": [
            "Valores interpolados en puntos nuevos: [2.5 2.2]\n"
          ]
        }
      ]
    }
  ]
}