{
  "nbformat": 4,
  "nbformat_minor": 0,
  "metadata": {
    "colab": {
      "provenance": [],
      "authorship_tag": "ABX9TyN2aKps5gQYzSj1n+NLwMQh",
      "include_colab_link": true
    },
    "kernelspec": {
      "name": "python3",
      "display_name": "Python 3"
    },
    "language_info": {
      "name": "python"
    }
  },
  "cells": [
    {
      "cell_type": "markdown",
      "metadata": {
        "id": "view-in-github",
        "colab_type": "text"
      },
      "source": [
        "<a href=\"https://colab.research.google.com/github/DanaeMartinez01/Metodos-Numericos-/blob/main/M%C3%A9todohorner.ipynb\" target=\"_parent\"><img src=\"https://colab.research.google.com/assets/colab-badge.svg\" alt=\"Open In Colab\"/></a>"
      ]
    },
    {
      "cell_type": "code",
      "execution_count": 1,
      "metadata": {
        "colab": {
          "base_uri": "https://localhost:8080/"
        },
        "id": "lp-mQR_oyN-a",
        "outputId": "73f8df0a-a8b6-4318-a980-eabd27d950d9"
      },
      "outputs": [
        {
          "output_type": "stream",
          "name": "stdout",
          "text": [
            "Una aproximación de la raíz es: -1.7389562566790493\n"
          ]
        }
      ],
      "source": [
        "import numpy as np\n",
        "\n",
        "# Método de Horner para evaluar un polinomio y su derivada\n",
        "def horner(p, x0):\n",
        "    n = len(p) - 1\n",
        "    y = p[0]  # Inicialización del valor del polinomio\n",
        "    z = p[0]  # Inicialización del valor de la derivada\n",
        "    for i in range(1, n):\n",
        "        y = x0 * y + p[i]\n",
        "        z = x0 * z + y\n",
        "    y = x0 * y + p[-1]\n",
        "    return y, z\n",
        "\n",
        "# Método de Newton para encontrar las raíces de un polinomio\n",
        "def newton(p, x0, tol=1e-6, max_iter=100):\n",
        "    for i in range(max_iter):\n",
        "        y, z = horner(p, x0)\n",
        "        if abs(y) < tol:\n",
        "            return x0\n",
        "        if z == 0:  # Evitar división entre cero\n",
        "            print(\"Derivada es cero. Método no puede continuar.\")\n",
        "            return None\n",
        "        x0 = x0 - y / z\n",
        "    print(\"El método no convergió después de\", max_iter, \"iteraciones.\")\n",
        "    return None\n",
        "\n",
        "# Coeficientes del polinomio del Ejemplo 2 (página 70 del libro)\n",
        "# P(x) = 2x^4 - 3x^2 + 3x - 4\n",
        "p = [2, 0, -3, 3, -4]\n",
        "\n",
        "# Valor inicial\n",
        "x0 = -2\n",
        "\n",
        "# Encontrar la raíz usando el método de Newton\n",
        "raiz = newton(p, x0)\n",
        "\n",
        "print(\"Una aproximación de la raíz es:\", raiz)"
      ]
    },
    {
      "cell_type": "code",
      "source": [
        "import numpy as np\n",
        "\n",
        "# Método de Horner para evaluar un polinomio y su derivada\n",
        "def horner(p, x0):\n",
        "    n = len(p) - 1\n",
        "    y = p[0]  # Inicialización del valor del polinomio\n",
        "    z = p[0]  # Inicialización del valor de la derivada\n",
        "    for i in range(1, n):\n",
        "        y = x0 * y + p[i]\n",
        "        z = x0 * z + y\n",
        "    y = x0 * y + p[-1]\n",
        "    return y, z\n",
        "\n",
        "# Método de Newton para encontrar las raíces de un polinomio con tabla de valores\n",
        "def newton(p, x0, tol=1e-6, max_iter=100):\n",
        "    # Lista para almacenar los valores en cada iteración\n",
        "    iteraciones = []\n",
        "\n",
        "    for i in range(max_iter):\n",
        "        y, z = horner(p, x0)\n",
        "        iteraciones.append([i, x0, y, z])  # Guardar iteración, valor actual de x0, y y z\n",
        "\n",
        "        if abs(y) < tol:\n",
        "            print(\"\\nTabla de valores:\")\n",
        "            print(f\"{'Iteración':<10}{'x0':<15}{'y':<15}{'z':<15}\")\n",
        "            for fila in iteraciones:\n",
        "                print(f\"{fila[0]:<10}{fila[1]:<15.8f}{fila[2]:<15.8f}{fila[3]:<15.8f}\")\n",
        "            return x0\n",
        "\n",
        "        if z == 0:  # Evitar división entre cero\n",
        "            print(\"Derivada es cero. Método no puede continuar.\")\n",
        "            return None\n",
        "\n",
        "        x0 = x0 - y / z\n",
        "\n",
        "    print(\"El método no convergió después de\", max_iter, \"iteraciones.\")\n",
        "    return None\n",
        "\n",
        "# Coeficientes del polinomio del Ejemplo 2 (página 70 del libro)\n",
        "# P(x) = 2x^4 - 3x^2 + 3x - 4\n",
        "p = [2, 0, -3, 3, -4]\n",
        "\n",
        "# Valor inicial\n",
        "x0 = -2\n",
        "\n",
        "# Encontrar la raíz usando el método de Newton\n",
        "raiz = newton(p, x0)\n",
        "\n",
        "if raiz is not None:\n",
        "    print(\"\\nUna aproximación de la raíz es:\", raiz)"
      ],
      "metadata": {
        "colab": {
          "base_uri": "https://localhost:8080/"
        },
        "id": "DjfOQ0RDx72x",
        "outputId": "28f6786b-45e4-4db9-9cd8-3c0fd784d79f"
      },
      "execution_count": 3,
      "outputs": [
        {
          "output_type": "stream",
          "name": "stdout",
          "text": [
            "\n",
            "Tabla de valores:\n",
            "Iteración x0             y              z              \n",
            "0         -2.00000000    10.00000000    -49.00000000   \n",
            "1         -1.79591837    1.74169065     -32.56382120   \n",
            "2         -1.74243292    0.09995592     -28.86662337   \n",
            "3         -1.73897024    0.00040029     -28.63558969   \n",
            "4         -1.73895626    0.00000001     -28.63465905   \n",
            "\n",
            "Una aproximación de la raíz es: -1.7389562566790493\n"
          ]
        }
      ]
    }
  ]
}