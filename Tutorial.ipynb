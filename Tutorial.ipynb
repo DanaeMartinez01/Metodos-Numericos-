{
  "nbformat": 4,
  "nbformat_minor": 0,
  "metadata": {
    "colab": {
      "provenance": [],
      "authorship_tag": "ABX9TyMEznoEBYI+cDupp6QMz/Ii",
      "include_colab_link": true
    },
    "kernelspec": {
      "name": "python3",
      "display_name": "Python 3"
    },
    "language_info": {
      "name": "python"
    }
  },
  "cells": [
    {
      "cell_type": "markdown",
      "metadata": {
        "id": "view-in-github",
        "colab_type": "text"
      },
      "source": [
        "<a href=\"https://colab.research.google.com/github/DanaeMartinez01/Metodos-Numericos-/blob/main/Tutorial.ipynb\" target=\"_parent\"><img src=\"https://colab.research.google.com/assets/colab-badge.svg\" alt=\"Open In Colab\"/></a>"
      ]
    },
    {
      "cell_type": "markdown",
      "source": [
        "1. Introducción a NumPy\n",
        "\n",
        "\t•\t¿Qué es NumPy?\n",
        "NumPy es una biblioteca de Python que permite hacer cálculos matemáticos rápidos y eficientes, ya que está optimizada para trabajar con grandes volúmenes de datos y para realizar operaciones matemáticas avanzadas.\n",
        "\t•\t¿Por qué es útil?\n",
        "NumPy es mucho más rápido que las listas de Python para operaciones matemáticas, y permite realizar operaciones sobre múltiples elementos de un array a la vez."
      ],
      "metadata": {
        "id": "v03ep5NueWpV"
      }
    },
    {
      "cell_type": "markdown",
      "source": [
        "•\tInstalación\n",
        "Si aún no tienes NumPy, instálalo ejecutando esta celda:"
      ],
      "metadata": {
        "id": "RfW6cOrne4OC"
      }
    },
    {
      "cell_type": "code",
      "source": [
        "!pip install numpy"
      ],
      "metadata": {
        "colab": {
          "base_uri": "https://localhost:8080/"
        },
        "id": "9XqVaMCye7e6",
        "outputId": "e7efda87-5954-4223-d701-d267cea1d3af"
      },
      "execution_count": null,
      "outputs": [
        {
          "output_type": "stream",
          "name": "stdout",
          "text": [
            "Requirement already satisfied: numpy in /usr/local/lib/python3.10/dist-packages (1.26.4)\n"
          ]
        }
      ]
    },
    {
      "cell_type": "markdown",
      "source": [
        "2. Importar NumPy\n",
        "\n",
        "\t•\tEl primer paso en cualquier proyecto que use NumPy es importarlo:"
      ],
      "metadata": {
        "id": "-Xmb2vfffHK5"
      }
    },
    {
      "cell_type": "code",
      "source": [
        "import numpy as np"
      ],
      "metadata": {
        "id": "2Pr14XRtfRSI"
      },
      "execution_count": null,
      "outputs": []
    },
    {
      "cell_type": "markdown",
      "source": [
        "3. Creación de Arrays\n",
        "\n",
        "\t•\tArrays: Estructuras de datos que permiten almacenar elementos del mismo tipo. NumPy trabaja principalmente con arrays, que son similares a las listas, pero mucho más rápidos.\n",
        "\t•\tCrear un array 1D:"
      ],
      "metadata": {
        "id": "aIWlGTrbfeJG"
      }
    },
    {
      "cell_type": "code",
      "source": [
        "arr = np.array([1, 2, 3, 4, 5])\n",
        "print(arr)"
      ],
      "metadata": {
        "colab": {
          "base_uri": "https://localhost:8080/"
        },
        "id": "FVwaFjbDfrBi",
        "outputId": "09d63b6f-e03c-46dd-fbf4-cb4ebf180a58"
      },
      "execution_count": null,
      "outputs": [
        {
          "output_type": "stream",
          "name": "stdout",
          "text": [
            "[1 2 3 4 5]\n"
          ]
        }
      ]
    },
    {
      "cell_type": "markdown",
      "source": [
        "Crear arrays multidimensionales:"
      ],
      "metadata": {
        "id": "Fgh9a0EDf3C6"
      }
    },
    {
      "cell_type": "code",
      "source": [
        "# Array 2D (matriz)\n",
        "arr_2d = np.array([[1, 2, 3], [4, 5, 6]])\n",
        "print(arr_2d)\n",
        "\n",
        "# Array 3D\n",
        "arr_3d = np.array([[[1, 2], [3, 4]], [[5, 6], [7, 8]]])\n",
        "print(arr_3d)"
      ],
      "metadata": {
        "colab": {
          "base_uri": "https://localhost:8080/"
        },
        "id": "isE9CbUegE28",
        "outputId": "0b62e2de-2424-4e45-920e-65a2f2123067"
      },
      "execution_count": null,
      "outputs": [
        {
          "output_type": "stream",
          "name": "stdout",
          "text": [
            "[[1 2 3]\n",
            " [4 5 6]]\n",
            "[[[1 2]\n",
            "  [3 4]]\n",
            "\n",
            " [[5 6]\n",
            "  [7 8]]]\n"
          ]
        }
      ]
    },
    {
      "cell_type": "markdown",
      "source": [
        "4. Funciones Básicas para Crear Arrays\n",
        "\n",
        "\t•\tNumPy incluye funciones para crear arrays de ceros, unos, valores constantes, o números aleatorios:"
      ],
      "metadata": {
        "id": "dQF8cC5IgLzi"
      }
    },
    {
      "cell_type": "code",
      "source": [
        "zeros = np.zeros((2, 3))\n",
        "ones = np.ones((2, 3))\n",
        "full = np.full((2, 3), 7)\n",
        "eye = np.eye(3)  # Matriz identidad\n",
        "random_arr = np.random.random((2, 2))\n",
        "\n",
        "print(\"Zeros:\\n\", zeros)\n",
        "print(\"Ones:\\n\", ones)\n",
        "print(\"Full:\\n\", full)\n",
        "print(\"Matriz identidad:\\n\", eye)\n",
        "print(\"Array aleatorio:\\n\", random_arr)"
      ],
      "metadata": {
        "colab": {
          "base_uri": "https://localhost:8080/"
        },
        "id": "BQb-OjyZgZDc",
        "outputId": "482b1ccd-c069-4744-993e-03e58fff3f53"
      },
      "execution_count": null,
      "outputs": [
        {
          "output_type": "stream",
          "name": "stdout",
          "text": [
            "Zeros:\n",
            " [[0. 0. 0.]\n",
            " [0. 0. 0.]]\n",
            "Ones:\n",
            " [[1. 1. 1.]\n",
            " [1. 1. 1.]]\n",
            "Full:\n",
            " [[7 7 7]\n",
            " [7 7 7]]\n",
            "Matriz identidad:\n",
            " [[1. 0. 0.]\n",
            " [0. 1. 0.]\n",
            " [0. 0. 1.]]\n",
            "Array aleatorio:\n",
            " [[0.73840172 0.91805938]\n",
            " [0.83050715 0.4444673 ]]\n"
          ]
        }
      ]
    },
    {
      "cell_type": "markdown",
      "source": [
        "5. Operaciones Básicas con Arrays\n",
        "\n",
        "\t•\tRealiza operaciones matemáticas de manera rápida:"
      ],
      "metadata": {
        "id": "-J71Qy-Rgi3S"
      }
    },
    {
      "cell_type": "code",
      "source": [
        "arr1 = np.array([1, 2, 3])\n",
        "arr2 = np.array([4, 5, 6])\n",
        "\n",
        "suma = arr1 + arr2\n",
        "resta = arr1 - arr2\n",
        "multiplicacion = arr1 * arr2\n",
        "division = arr1 / arr2\n",
        "\n",
        "print(\"Suma:\", suma)\n",
        "print(\"Resta:\", resta)\n",
        "print(\"Multiplicación:\", multiplicacion)\n",
        "print(\"División:\", division)"
      ],
      "metadata": {
        "colab": {
          "base_uri": "https://localhost:8080/"
        },
        "id": "ZxBEH0S3gvBr",
        "outputId": "f68404e9-ccfb-4d52-d4de-b88f81e8c9be"
      },
      "execution_count": null,
      "outputs": [
        {
          "output_type": "stream",
          "name": "stdout",
          "text": [
            "Suma: [5 7 9]\n",
            "Resta: [-3 -3 -3]\n",
            "Multiplicación: [ 4 10 18]\n",
            "División: [0.25 0.4  0.5 ]\n"
          ]
        }
      ]
    },
    {
      "cell_type": "markdown",
      "source": [
        "6. Funciones Matemáticas en NumPy\n",
        "\n",
        "\t•\tPuedes aplicar funciones matemáticas como np.sum, np.mean, np.max, np.sqrt y np.power a arrays:"
      ],
      "metadata": {
        "id": "QGX_SkR-g13F"
      }
    },
    {
      "cell_type": "code",
      "source": [
        "arr = np.array([1, 2, 3, 4, 5])\n",
        "print(\"Suma:\", np.sum(arr))\n",
        "print(\"Promedio:\", np.mean(arr))\n",
        "print(\"Máximo:\", np.max(arr))\n",
        "print(\"Raíz cuadrada:\", np.sqrt(arr))\n",
        "print(\"Potencia (elevando cada elemento al cuadrado):\", np.power(arr, 2))"
      ],
      "metadata": {
        "colab": {
          "base_uri": "https://localhost:8080/"
        },
        "id": "gtJ6d9BCg9lH",
        "outputId": "0b06c330-a027-4769-e26d-ade6a003d82f"
      },
      "execution_count": null,
      "outputs": [
        {
          "output_type": "stream",
          "name": "stdout",
          "text": [
            "Suma: 15\n",
            "Promedio: 3.0\n",
            "Máximo: 5\n",
            "Raíz cuadrada: [1.         1.41421356 1.73205081 2.         2.23606798]\n",
            "Potencia (elevando cada elemento al cuadrado): [ 1  4  9 16 25]\n"
          ]
        }
      ]
    },
    {
      "cell_type": "markdown",
      "source": [
        "7. Indexación y Slicing en Arrays\n",
        "\n",
        "\t•\tLa indexación y el slicing te permiten seleccionar partes específicas de un array:"
      ],
      "metadata": {
        "id": "zhuxfQq7hClZ"
      }
    },
    {
      "cell_type": "code",
      "source": [
        "arr = np.array([10, 20, 30, 40, 50])\n",
        "print(\"Elemento en la posición 1:\", arr[1])\n",
        "print(\"Último elemento:\", arr[-1])\n",
        "print(\"Slicing (del índice 1 al 3):\", arr[1:4])"
      ],
      "metadata": {
        "colab": {
          "base_uri": "https://localhost:8080/"
        },
        "id": "vTj1D657hJZ-",
        "outputId": "12689a17-3723-44dc-dabf-ec3b26158baf"
      },
      "execution_count": null,
      "outputs": [
        {
          "output_type": "stream",
          "name": "stdout",
          "text": [
            "Elemento en la posición 1: 20\n",
            "Último elemento: 50\n",
            "Slicing (del índice 1 al 3): [20 30 40]\n"
          ]
        }
      ]
    },
    {
      "cell_type": "markdown",
      "source": [
        "8. Modificación de la Forma de un Array\n",
        "\n",
        "\t•\tPuedes cambiar la forma de un array sin modificar sus datos:"
      ],
      "metadata": {
        "id": "pNEqPjklhdBX"
      }
    },
    {
      "cell_type": "code",
      "source": [
        "arr = np.array([1, 2, 3, 4, 5, 6])\n",
        "arr_reshaped = arr.reshape(2, 3)\n",
        "print(\"Array original:\", arr)\n",
        "print(\"Array reshaped (2x3):\\n\", arr_reshaped)"
      ],
      "metadata": {
        "colab": {
          "base_uri": "https://localhost:8080/"
        },
        "id": "SCWvHCUKhe9p",
        "outputId": "5b6e4f86-be93-47e1-9229-7fbb77741321"
      },
      "execution_count": null,
      "outputs": [
        {
          "output_type": "stream",
          "name": "stdout",
          "text": [
            "Array original: [1 2 3 4 5 6]\n",
            "Array reshaped (2x3):\n",
            " [[1 2 3]\n",
            " [4 5 6]]\n"
          ]
        }
      ]
    },
    {
      "cell_type": "markdown",
      "source": [
        "9. Tabla de Potencias\n",
        "\n",
        "\t•\tPara crear una tabla de potencias (similar a un triángulo) que muestre valores elevados a diferentes exponentes, podemos usar un array 2D:"
      ],
      "metadata": {
        "id": "F9AQomT5hlRM"
      }
    },
    {
      "cell_type": "code",
      "source": [
        "# Crear un array de base\n",
        "base = np.arange(1, 6)  # Números del 1 al 5\n",
        "\n",
        "# Generar la tabla de potencias usando un bucle o broadcasting\n",
        "potencias = np.array([np.power(base, i) for i in range(1, 6)])\n",
        "\n",
        "print(\"Tabla de potencias:\\n\", potencias)"
      ],
      "metadata": {
        "colab": {
          "base_uri": "https://localhost:8080/"
        },
        "id": "VQWFFxNqhsFk",
        "outputId": "09836b4c-d243-4f7a-9f1f-3911d9be4484"
      },
      "execution_count": null,
      "outputs": [
        {
          "output_type": "stream",
          "name": "stdout",
          "text": [
            "Tabla de potencias:\n",
            " [[   1    2    3    4    5]\n",
            " [   1    4    9   16   25]\n",
            " [   1    8   27   64  125]\n",
            " [   1   16   81  256  625]\n",
            " [   1   32  243 1024 3125]]\n"
          ]
        }
      ]
    },
    {
      "cell_type": "markdown",
      "source": [
        "•\tEn esta tabla, cada fila representa el valor base elevado a una potencia diferente (1, 2, 3, etc.)."
      ],
      "metadata": {
        "id": "lTB2vx2kiCX2"
      }
    },
    {
      "cell_type": "markdown",
      "source": [
        "10. Álgebra Lineal con NumPy\n",
        "\n",
        "\t•\tOperaciones avanzadas como el producto punto (np.dot), transposición (np.transpose), y más:"
      ],
      "metadata": {
        "id": "2cj91gzMiF4x"
      }
    },
    {
      "cell_type": "code",
      "source": [
        "# Producto punto\n",
        "a = np.array([1, 2])\n",
        "b = np.array([3, 4])\n",
        "print(\"Producto punto:\", np.dot(a, b))\n",
        "\n",
        "# Multiplicación de matrices\n",
        "A = np.array([[1, 2], [3, 4]])\n",
        "B = np.array([[5, 6], [7, 8]])\n",
        "print(\"Multiplicación de matrices:\\n\", np.dot(A, B))\n",
        "\n",
        "# Transposición\n",
        "print(\"Transposición de A:\\n\", A.T)"
      ],
      "metadata": {
        "colab": {
          "base_uri": "https://localhost:8080/"
        },
        "id": "DyB_rTnqiM_1",
        "outputId": "1884998b-d111-4303-e5ba-75d6bbb05272"
      },
      "execution_count": null,
      "outputs": [
        {
          "output_type": "stream",
          "name": "stdout",
          "text": [
            "Producto punto: 11\n",
            "Multiplicación de matrices:\n",
            " [[19 22]\n",
            " [43 50]]\n",
            "Transposición de A:\n",
            " [[1 3]\n",
            " [2 4]]\n"
          ]
        }
      ]
    },
    {
      "cell_type": "markdown",
      "source": [
        "11. Filtrado de Arrays\n",
        "\n",
        "\t•\tSeleccionar elementos que cumplen una condición:"
      ],
      "metadata": {
        "id": "KcMLvKYaiT2u"
      }
    },
    {
      "cell_type": "code",
      "source": [
        "arr = np.array([10, 20, 30, 40, 50])\n",
        "print(\"Elementos mayores a 30:\", arr[arr > 30])"
      ],
      "metadata": {
        "colab": {
          "base_uri": "https://localhost:8080/"
        },
        "id": "5IbL6EL1ieQp",
        "outputId": "58c700b6-07a1-415a-8a4d-7fbea578f09a"
      },
      "execution_count": null,
      "outputs": [
        {
          "output_type": "stream",
          "name": "stdout",
          "text": [
            "Elementos mayores a 30: [40 50]\n"
          ]
        }
      ]
    },
    {
      "cell_type": "markdown",
      "source": [
        "12. Conclusión\n",
        "\n",
        "\t•\tNumPy es una herramienta poderosa para realizar operaciones matemáticas complejas en Python. Esta Notebook te ha enseñado a crear arrays, realizar operaciones matemáticas y manipular datos de manera eficiente."
      ],
      "metadata": {
        "id": "XN3FRaJKijcy"
      }
    }
  ]
}