{
  "nbformat": 4,
  "nbformat_minor": 0,
  "metadata": {
    "colab": {
      "provenance": [],
      "authorship_tag": "ABX9TyPRj7UnBgfgtk10LduHQiOA",
      "include_colab_link": true
    },
    "kernelspec": {
      "name": "python3",
      "display_name": "Python 3"
    },
    "language_info": {
      "name": "python"
    }
  },
  "cells": [
    {
      "cell_type": "markdown",
      "metadata": {
        "id": "view-in-github",
        "colab_type": "text"
      },
      "source": [
        "<a href=\"https://colab.research.google.com/github/DanaeMartinez01/Metodos-Numericos-/blob/main/Hermite.ipynb\" target=\"_parent\"><img src=\"https://colab.research.google.com/assets/colab-badge.svg\" alt=\"Open In Colab\"/></a>"
      ]
    },
    {
      "cell_type": "code",
      "source": [
        "import numpy as np\n",
        "\n",
        "def hermite_interpolation(x, f, f_derivative):\n",
        "    n = len(x)\n",
        "    z = np.zeros(2 * n)\n",
        "    Q = np.zeros((2 * n, 2 * n))\n",
        "\n",
        "    # Paso 2: Inicialización\n",
        "    for i in range(n):\n",
        "        z[2 * i] = z[2 * i + 1] = x[i]\n",
        "        Q[2 * i][0] = f[i]\n",
        "        Q[2 * i + 1][0] = f[i]\n",
        "        Q[2 * i + 1][1] = f_derivative[i]\n",
        "        if i != 0:\n",
        "            Q[2 * i][1] = (Q[2 * i][0] - Q[2 * i - 1][0]) / (z[2 * i] - z[2 * i - 1])\n",
        "\n",
        "    # Paso 4: Cálculo de las diferencias divididas\n",
        "    for i in range(2, 2 * n):\n",
        "        for j in range(2, i + 1):\n",
        "            Q[i][j] = (Q[i][j - 1] - Q[i - 1][j - 1]) / (z[i] - z[i - j])\n",
        "\n",
        "    # Imprimir la tabla de diferencias divididas\n",
        "    print(\"\\nTabla de diferencias divididas (Q):\")\n",
        "    for i in range(2 * n):\n",
        "        fila = [f\"{Q[i][j]:.6f}\" if j <= i else \"\" for j in range(2 * n)]\n",
        "        print(fila)\n",
        "\n",
        "    # Retornar los nodos z y la tabla Q\n",
        "    return z, Q\n",
        "\n",
        "def evaluate_polynomial(z, Q, x_value):\n",
        "    n = len(z)\n",
        "    result = Q[0][0]\n",
        "    product = 1\n",
        "    for i in range(1, n):\n",
        "        product *= (x_value - z[i - 1])\n",
        "        result += Q[i][i] * product\n",
        "    return result\n",
        "\n",
        "# Ejemplo 1 de la página 101\n",
        "x = [1.3, 1.6, 1.9]\n",
        "f = [0.6200860, 0.4554022, 0.2818186]\n",
        "f_derivative = [-0.5220232, -0.5698959, -0.5811571]\n",
        "\n",
        "# Calcular el polinomio de Hermite\n",
        "z, Q = hermite_interpolation(x, f, f_derivative)\n",
        "\n",
        "# Evaluar el polinomio en x = 1.5\n",
        "x_value = 1.5\n",
        "result = evaluate_polynomial(z, Q, x_value)\n",
        "\n",
        "print(f\"\\nEl valor aproximado de f({x_value}) es: {result:.7f}\")"
      ],
      "metadata": {
        "colab": {
          "base_uri": "https://localhost:8080/"
        },
        "id": "TNnvPF8Az2uN",
        "outputId": "26380e6d-5693-4ef5-c3ee-234de5627bfe"
      },
      "execution_count": 2,
      "outputs": [
        {
          "output_type": "stream",
          "name": "stdout",
          "text": [
            "\n",
            "Tabla de diferencias divididas (Q):\n",
            "['0.620086', '', '', '', '', '']\n",
            "['0.620086', '-0.522023', '', '', '', '']\n",
            "['0.455402', '-0.548946', '-0.089743', '', '', '']\n",
            "['0.455402', '-0.569896', '-0.069833', '0.066366', '', '']\n",
            "['0.281819', '-0.578612', '-0.029054', '0.067966', '0.002667', '']\n",
            "['0.281819', '-0.581157', '-0.008484', '0.068567', '0.001002', '-0.002775']\n",
            "\n",
            "El valor aproximado de f(1.5) es: 0.5118277\n"
          ]
        }
      ]
    },
    {
      "cell_type": "code",
      "source": [
        "import numpy as np\n",
        "\n",
        "def hermite_interpolation(x, f, f_derivative):\n",
        "    n = len(x)\n",
        "    z = np.zeros(2 * n)\n",
        "    Q = np.zeros((2 * n, 2 * n))\n",
        "\n",
        "    # Paso 2: Inicialización\n",
        "    for i in range(n):\n",
        "        z[2 * i] = z[2 * i + 1] = x[i]\n",
        "        Q[2 * i][0] = f[i]\n",
        "        Q[2 * i + 1][0] = f[i]\n",
        "        Q[2 * i + 1][1] = f_derivative[i]\n",
        "        if i != 0:\n",
        "            Q[2 * i][1] = (Q[2 * i][0] - Q[2 * i - 1][0]) / (z[2 * i] - z[2 * i - 1])\n",
        "\n",
        "    # Paso 4: Cálculo de las diferencias divididas\n",
        "    for i in range(2, 2 * n):\n",
        "        for j in range(2, i + 1):\n",
        "            Q[i][j] = (Q[i][j - 1] - Q[i - 1][j - 1]) / (z[i] - z[i - j])\n",
        "\n",
        "    # El polinomio está representado por la diagonal de Q\n",
        "    return z, Q\n",
        "\n",
        "def evaluate_polynomial(z, Q, x_value):\n",
        "    n = len(z)\n",
        "    result = Q[0][0]\n",
        "    product = 1\n",
        "    for i in range(1, n):\n",
        "        product *= (x_value - z[i - 1])\n",
        "        result += Q[i][i] * product\n",
        "    return result\n",
        "\n",
        "# Ejemplo 1 de la página 101\n",
        "x = [1.3, 1.6, 1.9]\n",
        "f = [0.6200860, 0.4554022, 0.2818186]\n",
        "f_derivative = [-0.5220232, -0.5698959, -0.5811571]\n",
        "\n",
        "# Calcular el polinomio de Hermite\n",
        "z, Q = hermite_interpolation(x, f, f_derivative)\n",
        "\n",
        "# Evaluar el polinomio en x = 1.5\n",
        "x_value = 1.5\n",
        "result = evaluate_polynomial(z, Q, x_value)\n",
        "\n",
        "print(f\"El valor aproximado de f({x_value}) es: {result}\")"
      ],
      "metadata": {
        "colab": {
          "base_uri": "https://localhost:8080/"
        },
        "id": "ooc8yW270IT3",
        "outputId": "b896a13e-3d36-4a7a-a6b6-1a3aa3d2a4ca"
      },
      "execution_count": 3,
      "outputs": [
        {
          "output_type": "stream",
          "name": "stdout",
          "text": [
            "El valor aproximado de f(1.5) es: 0.5118277017283951\n"
          ]
        }
      ]
    }
  ]
}