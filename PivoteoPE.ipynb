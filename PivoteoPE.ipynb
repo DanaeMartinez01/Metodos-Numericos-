{
  "nbformat": 4,
  "nbformat_minor": 0,
  "metadata": {
    "colab": {
      "provenance": [],
      "authorship_tag": "ABX9TyO405F3jOlYemAe0r4ExMdd",
      "include_colab_link": true
    },
    "kernelspec": {
      "name": "python3",
      "display_name": "Python 3"
    },
    "language_info": {
      "name": "python"
    }
  },
  "cells": [
    {
      "cell_type": "markdown",
      "metadata": {
        "id": "view-in-github",
        "colab_type": "text"
      },
      "source": [
        "<a href=\"https://colab.research.google.com/github/DanaeMartinez01/Metodos-Numericos-/blob/main/PivoteoPE.ipynb\" target=\"_parent\"><img src=\"https://colab.research.google.com/assets/colab-badge.svg\" alt=\"Open In Colab\"/></a>"
      ]
    },
    {
      "cell_type": "code",
      "execution_count": 2,
      "metadata": {
        "colab": {
          "base_uri": "https://localhost:8080/"
        },
        "id": "KItkor8hxIem",
        "outputId": "db314693-bd89-430a-bab1-90a98e7d9f60"
      },
      "outputs": [
        {
          "output_type": "stream",
          "name": "stdout",
          "text": [
            "La solución del sistema es:\n",
            "[-0.42800441  0.42690323  5.11438861]\n"
          ]
        }
      ],
      "source": [
        "import numpy as np\n",
        "\n",
        "def gaussian_elimination_scaled_partial_pivoting(A, b):\n",
        "    \"\"\"\n",
        "    Resuelve el sistema de ecuaciones Ax = b usando la eliminación Gaussiana con pivoteo parcial escalado.\n",
        "\n",
        "    Parámetros:\n",
        "    -----------\n",
        "    A : numpy.ndarray\n",
        "        Matriz de coeficientes del sistema (de tamaño nxn).\n",
        "    b : numpy.ndarray\n",
        "        Vector de términos independientes (de tamaño nx1).\n",
        "\n",
        "    Retorna:\n",
        "    --------\n",
        "    x : numpy.ndarray\n",
        "        Vector solución del sistema Ax = b.\n",
        "    \"\"\"\n",
        "\n",
        "    # Paso 1: Inicializar\n",
        "    n = len(A)  # Dimensión del sistema\n",
        "    s = np.max(np.abs(A), axis=1)  # Escalamiento basado en la fila (valores máximos de cada fila)\n",
        "    NROW = np.arange(n)  # Vector para realizar intercambios de filas\n",
        "\n",
        "    # Revisión de singularidad\n",
        "    if np.any(s == 0):\n",
        "        raise ValueError(\"El sistema no tiene una solución única (división por cero).\")\n",
        "\n",
        "    # Proceso de eliminación\n",
        "    for i in range(n - 1):\n",
        "        # Paso 2: Determinar el pivote escalado\n",
        "        ratios = np.abs(A[NROW[i:], i]) / s[NROW[i:]]\n",
        "        p = i + np.argmax(ratios)  # Fila con mayor ratio escalado\n",
        "\n",
        "        # Intercambiar filas en NROW\n",
        "        if i != p:\n",
        "            NROW[i], NROW[p] = NROW[p], NROW[i]\n",
        "\n",
        "        # Paso 3: Eliminación hacia adelante\n",
        "        for j in range(i + 1, n):\n",
        "            factor = A[NROW[j], i] / A[NROW[i], i]\n",
        "            A[NROW[j], i:] -= factor * A[NROW[i], i:]\n",
        "            b[NROW[j]] -= factor * b[NROW[i]]\n",
        "\n",
        "    # Sustitución hacia atrás\n",
        "    x = np.zeros(n)\n",
        "    for i in range(n - 1, -1, -1):\n",
        "        x[i] = (b[NROW[i]] - np.dot(A[NROW[i], i + 1:], x[i + 1:])) / A[NROW[i], i]\n",
        "\n",
        "    return x\n",
        "\n",
        "\n",
        "# Ejemplo 3 de la página 284\n",
        "# Datos del problema\n",
        "A = np.array([[2.11, -4.21, 0.921],\n",
        "              [4.01, 10.2, -1.12],\n",
        "              [1.09, 0.987, 0.832]])\n",
        "b = np.array([2.01, -3.09, 4.21])\n",
        "\n",
        "# Resolviendo el sistema\n",
        "x = gaussian_elimination_scaled_partial_pivoting(A, b)\n",
        "\n",
        "# Mostrar la solución\n",
        "print(\"La solución del sistema es:\")\n",
        "print(x)"
      ]
    },
    {
      "cell_type": "markdown",
      "source": [
        "Explicación de los comentarios en el código:\n",
        "\n",
        "  \n",
        "  1.\tComentarios de algoritmo:\n",
        "\t•\tCada paso del Algoritmo 6.3 se menciona explícitamente en el código (inicialización, cálculo del pivote escalado, intercambios de filas, eliminación hacia adelante y sustitución hacia atrás).\n",
        "\n",
        "  \n",
        "  2.\tDocumentación Python:\n",
        "\t•\tLa función gaussian_elimination_scaled_partial_pivoting incluye un bloque docstring que explica los parámetros y el propósito de cada parte.\n",
        "\n",
        "  \n",
        "  3.\tComentarios paso a paso:\n",
        "\t•\tCada línea clave del código tiene un comentario que describe lo que hace, para que sea fácil seguir el razonamiento matemático y la implementación en Python."
      ],
      "metadata": {
        "id": "56FFiW04yNNb"
      }
    }
  ]
}