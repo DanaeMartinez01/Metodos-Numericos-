{
  "nbformat": 4,
  "nbformat_minor": 0,
  "metadata": {
    "colab": {
      "provenance": [],
      "authorship_tag": "ABX9TyNbG18fdgKL8peNwz/6sqOo",
      "include_colab_link": true
    },
    "kernelspec": {
      "name": "python3",
      "display_name": "Python 3"
    },
    "language_info": {
      "name": "python"
    }
  },
  "cells": [
    {
      "cell_type": "markdown",
      "metadata": {
        "id": "view-in-github",
        "colab_type": "text"
      },
      "source": [
        "<a href=\"https://colab.research.google.com/github/DanaeMartinez01/Metodos-Numericos-/blob/main/LU.ipynb\" target=\"_parent\"><img src=\"https://colab.research.google.com/assets/colab-badge.svg\" alt=\"Open In Colab\"/></a>"
      ]
    },
    {
      "cell_type": "code",
      "execution_count": 1,
      "metadata": {
        "colab": {
          "base_uri": "https://localhost:8080/"
        },
        "id": "8Jp-WWzZmSje",
        "outputId": "a8b9cb9e-5fd0-4bb0-e414-818610080f0e"
      },
      "outputs": [
        {
          "output_type": "stream",
          "name": "stdout",
          "text": [
            "Matriz L (triangular inferior):\n",
            "[[ 1.  0.  0.  0.]\n",
            " [ 2.  1.  0.  0.]\n",
            " [ 3.  4.  1.  0.]\n",
            " [-1. -3.  0.  1.]]\n",
            "\n",
            "Matriz U (triangular superior):\n",
            "[[  1.   1.   0.   3.]\n",
            " [  0.  -1.  -1.  -5.]\n",
            " [  0.   0.   3.  13.]\n",
            " [  0.   0.   0. -13.]]\n",
            "\n",
            "Verificación (L @ U):\n",
            "[[ 1.  1.  0.  3.]\n",
            " [ 2.  1. -1.  1.]\n",
            " [ 3. -1. -1.  2.]\n",
            " [-1.  2.  3. -1.]]\n"
          ]
        }
      ],
      "source": [
        "import numpy as np\n",
        "\n",
        "def lu_factorization(A):\n",
        "    \"\"\"\n",
        "    Implementa la factorización LU de una matriz A según el algoritmo 6.4.\n",
        "\n",
        "    Parámetros:\n",
        "        A (numpy.ndarray): Matriz cuadrada de dimensión n x n.\n",
        "\n",
        "    Retorna:\n",
        "        L (numpy.ndarray): Matriz triangular inferior con diagonal de 1.\n",
        "        U (numpy.ndarray): Matriz triangular superior.\n",
        "    \"\"\"\n",
        "    n = A.shape[0]\n",
        "    L = np.eye(n)  # Inicializamos L con la matriz identidad\n",
        "    U = np.zeros_like(A, dtype=float)  # Inicializamos U como una matriz de ceros\n",
        "\n",
        "    for i in range(n):\n",
        "        # Paso 4: Seleccionar l_ii y u_ii\n",
        "        suma1 = sum(L[i, k] * U[k, i] for k in range(i))\n",
        "        U[i, i] = A[i, i] - suma1\n",
        "        if U[i, i] == 0:\n",
        "            raise ValueError(\"Factorización imposible, pivote nulo encontrado.\")\n",
        "\n",
        "        # Paso 5: Calcular elementos de U y L\n",
        "        for j in range(i + 1, n):\n",
        "            suma2 = sum(L[i, k] * U[k, j] for k in range(i))\n",
        "            U[i, j] = A[i, j] - suma2\n",
        "\n",
        "        for j in range(i + 1, n):\n",
        "            suma3 = sum(L[j, k] * U[k, i] for k in range(i))\n",
        "            L[j, i] = (A[j, i] - suma3) / U[i, i]\n",
        "\n",
        "    return L, U\n",
        "\n",
        "# Ejemplo 2: Matriz A\n",
        "A = np.array([\n",
        "    [1, 1, 0, 3],\n",
        "    [2, 1, -1, 1],\n",
        "    [3, -1, -1, 2],\n",
        "    [-1, 2, 3, -1]\n",
        "], dtype=float)\n",
        "\n",
        "# Aplicamos la factorización LU\n",
        "try:\n",
        "    L, U = lu_factorization(A)\n",
        "    print(\"Matriz L (triangular inferior):\")\n",
        "    print(L)\n",
        "    print(\"\\nMatriz U (triangular superior):\")\n",
        "    print(U)\n",
        "except ValueError as e:\n",
        "    print(e)\n",
        "\n",
        "# Verificación: A debe ser igual a L @ U\n",
        "print(\"\\nVerificación (L @ U):\")\n",
        "print(np.dot(L, U))"
      ]
    }
  ]
}